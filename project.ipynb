{
 "cells": [
  {
   "cell_type": "markdown",
   "id": "e8864e21-881f-484e-a7ab-0c040c0d6ce5",
   "metadata": {},
   "source": [
    "# project"
   ]
  },
  {
   "cell_type": "code",
   "execution_count": 1,
   "id": "64d2637f-2cbe-4c34-bb9c-e427b7b8922e",
   "metadata": {},
   "outputs": [
    {
     "name": "stdout",
     "output_type": "stream",
     "text": [
      "===== Student Management System =====\n",
      "1. Add Student\n",
      "2. View Students\n",
      "3. Average Marks\n",
      "4. Exit\n"
     ]
    },
    {
     "name": "stdin",
     "output_type": "stream",
     "text": [
      "Enter choice:  1\n",
      "Enter name:  Faiqa\n",
      "Enter age:  21\n",
      "Enter marks:  87\n"
     ]
    },
    {
     "name": "stdout",
     "output_type": "stream",
     "text": [
      "✅ Student added!\n",
      "\n",
      "===== Student Management System =====\n",
      "1. Add Student\n",
      "2. View Students\n",
      "3. Average Marks\n",
      "4. Exit\n"
     ]
    },
    {
     "name": "stdin",
     "output_type": "stream",
     "text": [
      "Enter choice:  2\n"
     ]
    },
    {
     "name": "stdout",
     "output_type": "stream",
     "text": [
      "---- Student List ----\n",
      "Name: Faiqa, Age: 21, Marks: 87\n",
      "\n",
      "===== Student Management System =====\n",
      "1. Add Student\n",
      "2. View Students\n",
      "3. Average Marks\n",
      "4. Exit\n"
     ]
    },
    {
     "name": "stdin",
     "output_type": "stream",
     "text": [
      "Enter choice:  3\n"
     ]
    },
    {
     "name": "stdout",
     "output_type": "stream",
     "text": [
      "---- Summary ----\n",
      "Total Students: 1\n",
      "Total Marks: 87\n",
      "Average Marks: 87.0\n",
      "\n",
      "===== Student Management System =====\n",
      "1. Add Student\n",
      "2. View Students\n",
      "3. Average Marks\n",
      "4. Exit\n"
     ]
    },
    {
     "name": "stdin",
     "output_type": "stream",
     "text": [
      "Enter choice:  4\n"
     ]
    },
    {
     "name": "stdout",
     "output_type": "stream",
     "text": [
      "Exiting... Goodbye!\n"
     ]
    }
   ],
   "source": [
    "# ===============================\n",
    "#  CLASS\n",
    "# ===============================\n",
    "class Student:\n",
    "    # constructor (to set values)\n",
    "    def __init__(self, name, age, marks):\n",
    "        self.name = name\n",
    "        self.age = age\n",
    "        self.marks = marks\n",
    "\n",
    "    # method (function inside class)\n",
    "    def show_info(self):\n",
    "        print(f\"Name: {self.name}, Age: {self.age}, Marks: {self.marks}\")\n",
    "\n",
    "\n",
    "# ===============================\n",
    "#  GLOBAL VARIABLES (list, tuple, dict)\n",
    "# ===============================\n",
    "students = []   # list to store student objects\n",
    "\n",
    "\n",
    "# ===============================\n",
    "#  FUNCTIONS\n",
    "# ===============================\n",
    "\n",
    "# add new student\n",
    "def add_student():\n",
    "    name = input(\"Enter name: \")\n",
    "    age = int(input(\"Enter age: \"))\n",
    "    marks = int(input(\"Enter marks: \"))\n",
    "\n",
    "    # create student object\n",
    "    s = Student(name, age, marks)\n",
    "    students.append(s)   # add to list\n",
    "    print(\"✅ Student added!\\n\")\n",
    "\n",
    "\n",
    "# view all students\n",
    "def view_students():\n",
    "    if not students:   # conditional\n",
    "        print(\"No students found!\\n\")\n",
    "    else:\n",
    "        print(\"---- Student List ----\")\n",
    "        for s in students:   # for loop\n",
    "            s.show_info()\n",
    "        print()\n",
    "\n",
    "\n",
    "# calculate average marks\n",
    "def average_marks():\n",
    "    if not students:\n",
    "        print(\"No students available!\\n\")\n",
    "    else:\n",
    "        # list comprehension\n",
    "        marks_list = [s.marks for s in students]\n",
    "\n",
    "        total = sum(marks_list)   # operator\n",
    "        avg = total / len(marks_list)\n",
    "\n",
    "        # dictionary\n",
    "        summary = {\n",
    "            \"Total Students\": len(students),\n",
    "            \"Total Marks\": total,\n",
    "            \"Average Marks\": avg\n",
    "        }\n",
    "\n",
    "        # tuple (to make dictionary items fixed)\n",
    "        summary_tuple = tuple(summary.items())\n",
    "\n",
    "        print(\"---- Summary ----\")\n",
    "        for key, value in summary_tuple:\n",
    "            print(f\"{key}: {value}\")\n",
    "        print()\n",
    "\n",
    "\n",
    "# ===============================\n",
    "#  MAIN PROGRAM (while loop menu)\n",
    "# ===============================\n",
    "while True:\n",
    "    print(\"===== Student Management System =====\")\n",
    "    print(\"1. Add Student\")\n",
    "    print(\"2. View Students\")\n",
    "    print(\"3. Average Marks\")\n",
    "    print(\"4. Exit\")\n",
    "\n",
    "    choice = input(\"Enter choice: \")\n",
    "\n",
    "    # conditional statements\n",
    "    if choice == \"1\":\n",
    "        add_student()\n",
    "    elif choice == \"2\":\n",
    "        view_students()\n",
    "    elif choice == \"3\":\n",
    "        average_marks()\n",
    "    elif choice == \"4\":\n",
    "        print(\"Exiting... Goodbye!\")\n",
    "        break   # while loop break\n",
    "    else:\n",
    "        print(\"Invalid choice, try again!\\n\")\n"
   ]
  },
  {
   "cell_type": "code",
   "execution_count": 2,
   "id": "f6acdba7-642e-4269-b277-548e08801e32",
   "metadata": {},
   "outputs": [
    {
     "name": "stdout",
     "output_type": "stream",
     "text": [
      "\n",
      "===== Student Management System =====\n",
      "1. Add Student\n",
      "2. Display All Students\n",
      "3. Search Student\n",
      "4. Delete Student\n",
      "5. Update Marks\n",
      "6. Exit\n"
     ]
    },
    {
     "name": "stdin",
     "output_type": "stream",
     "text": [
      "Enter your choice:  1\n",
      "Enter Name:  faiqa\n",
      "Enter Age:  21\n",
      "Enter Student ID:  2\n",
      "Enter Roll No:  45\n",
      "Enter Marks:  83\n",
      "Enter Degree (leave empty if not Graduate):  fsc\n"
     ]
    },
    {
     "name": "stdout",
     "output_type": "stream",
     "text": [
      "✅ Student Added Successfully!\n",
      "\n",
      "\n",
      "===== Student Management System =====\n",
      "1. Add Student\n",
      "2. Display All Students\n",
      "3. Search Student\n",
      "4. Delete Student\n",
      "5. Update Marks\n",
      "6. Exit\n"
     ]
    },
    {
     "name": "stdin",
     "output_type": "stream",
     "text": [
      "Enter your choice:  2\n"
     ]
    },
    {
     "name": "stdout",
     "output_type": "stream",
     "text": [
      "Name: faiqa, Age: 21, ID: 2, Roll: 45, Marks: 83\n",
      "Degree Program: fsc\n",
      "Result: Pass\n",
      "----------------------------------------\n",
      "\n",
      "===== Student Management System =====\n",
      "1. Add Student\n",
      "2. Display All Students\n",
      "3. Search Student\n",
      "4. Delete Student\n",
      "5. Update Marks\n",
      "6. Exit\n"
     ]
    },
    {
     "name": "stdin",
     "output_type": "stream",
     "text": [
      "Enter your choice:  3\n",
      "Enter Roll No to Search:  23\n"
     ]
    },
    {
     "name": "stdout",
     "output_type": "stream",
     "text": [
      "❌ Student Not Found!\n",
      "\n",
      "\n",
      "===== Student Management System =====\n",
      "1. Add Student\n",
      "2. Display All Students\n",
      "3. Search Student\n",
      "4. Delete Student\n",
      "5. Update Marks\n",
      "6. Exit\n"
     ]
    },
    {
     "name": "stdin",
     "output_type": "stream",
     "text": [
      "Enter your choice:  4\n",
      "Enter Roll No to Delete:  23\n"
     ]
    },
    {
     "name": "stdout",
     "output_type": "stream",
     "text": [
      "❌ Student Not Found!\n",
      "\n",
      "\n",
      "===== Student Management System =====\n",
      "1. Add Student\n",
      "2. Display All Students\n",
      "3. Search Student\n",
      "4. Delete Student\n",
      "5. Update Marks\n",
      "6. Exit\n"
     ]
    },
    {
     "name": "stdin",
     "output_type": "stream",
     "text": [
      "Enter your choice:  5\n",
      "Enter Roll No to Update Marks:  47\n"
     ]
    },
    {
     "name": "stdout",
     "output_type": "stream",
     "text": [
      "❌ Student Not Found!\n",
      "\n",
      "\n",
      "===== Student Management System =====\n",
      "1. Add Student\n",
      "2. Display All Students\n",
      "3. Search Student\n",
      "4. Delete Student\n",
      "5. Update Marks\n",
      "6. Exit\n"
     ]
    },
    {
     "name": "stdin",
     "output_type": "stream",
     "text": [
      "Enter your choice:  6\n"
     ]
    },
    {
     "name": "stdout",
     "output_type": "stream",
     "text": [
      "👋 Exiting Program. Goodbye!\n"
     ]
    }
   ],
   "source": [
    "class Student:\n",
    "    def __init__(self, name, age, student_id, roll_no, marks):\n",
    "        self.name = name\n",
    "        self.age = age\n",
    "        self.student_id = student_id\n",
    "        self.roll_no = roll_no\n",
    "        self.__marks = marks  \n",
    "\n",
    "    def display_info(self):\n",
    "        print(f\"Name: {self.name}, Age: {self.age}, ID: {self.student_id}, Roll: {self.roll_no}, Marks: {self.__marks}\")\n",
    "\n",
    "    def get_marks(self):\n",
    "        return self.__marks\n",
    "\n",
    "    def result(self):\n",
    "        if self.__marks >= 50:\n",
    "            return \"Pass\"\n",
    "        else:\n",
    "            return \"Fail\"\n",
    "\n",
    "\n",
    "class GraduateStudent(Student):\n",
    "    def __init__(self, name, age, student_id, roll_no, marks, degree):\n",
    "        super().__init__(name, age, student_id, roll_no, marks)\n",
    "        self.degree = degree\n",
    "\n",
    "    def show_degree(self):\n",
    "        print(f\"Degree Program: {self.degree}\")\n",
    "\n",
    "\n",
    "students = []   # list to store student objects\n",
    "\n",
    "\n",
    "def add_student():\n",
    "    name = input(\"Enter Name: \")\n",
    "    age = int(input(\"Enter Age: \"))\n",
    "    sid = input(\"Enter Student ID: \")\n",
    "    roll = int(input(\"Enter Roll No: \"))\n",
    "    marks = int(input(\"Enter Marks: \"))\n",
    "    degree = input(\"Enter Degree (leave empty if not Graduate): \")\n",
    "\n",
    "    if degree.strip() != \"\":\n",
    "        student = GraduateStudent(name, age, sid, roll, marks, degree)\n",
    "    else:\n",
    "        student = Student(name, age, sid, roll, marks)\n",
    "\n",
    "    students.append(student)\n",
    "    print(\"Student Added Successfully!\\n\")\n",
    "\n",
    "\n",
    "# Display All Students\n",
    "def display_students():\n",
    "    if not students:\n",
    "        print(\"No students found!\\n\")\n",
    "    else:\n",
    "        for s in students:\n",
    "            s.display_info()\n",
    "            if isinstance(s, GraduateStudent):\n",
    "                s.show_degree()\n",
    "            print(\"Result:\", s.result())\n",
    "            print(\"-\" * 40)\n",
    "\n",
    "\n",
    "def search_student():\n",
    "    roll = int(input(\"Enter Roll No to Search: \"))\n",
    "    for s in students:\n",
    "        if s.roll_no == roll:\n",
    "            s.display_info()\n",
    "            return\n",
    "    print(\"Student Not Found!\\n\")\n",
    "\n",
    "\n",
    "def delete_student():\n",
    "    roll = int(input(\"Enter Roll No to Delete: \"))\n",
    "    for s in students:\n",
    "        if s.roll_no == roll:\n",
    "            students.remove(s)\n",
    "            print(\"Student Deleted Successfully!\\n\")\n",
    "            return\n",
    "    print(\"Student Not Found!\\n\")\n",
    "\n",
    "\n",
    "def update_marks():\n",
    "    roll = int(input(\"Enter Roll No to Update Marks: \"))\n",
    "    for s in students:\n",
    "        if s.roll_no == roll:\n",
    "            new_marks = int(input(\"Enter New Marks: \"))\n",
    "            s._Student__marks = new_marks\n",
    "            print(\"Marks Updated Successfully!\\n\")\n",
    "            return\n",
    "    print(\"Student Not Found!\\n\")\n",
    "\n",
    "\n",
    "while True:\n",
    "    print(\"\\n===== Student Management System =====\")\n",
    "    print(\"1. Add Student\")\n",
    "    print(\"2. Display All Students\")\n",
    "    print(\"3. Search Student\")\n",
    "    print(\"4. Delete Student\")\n",
    "    print(\"5. Update Marks\")\n",
    "    print(\"6. Exit\")\n",
    "\n",
    "    choice = input(\"Enter your choice: \")\n",
    "\n",
    "    if choice == \"1\":\n",
    "        add_student()\n",
    "    elif choice == \"2\":\n",
    "        display_students()\n",
    "    elif choice == \"3\":\n",
    "        search_student()\n",
    "    elif choice == \"4\":\n",
    "        delete_student()\n",
    "    elif choice == \"5\":\n",
    "        update_marks()\n",
    "    elif choice == \"6\":\n",
    "        print(\"Exiting Program. Goodbye!\")\n",
    "        break\n",
    "    else:\n",
    "        print(\"Invalid Choice! Try again.\\n\")"
   ]
  },
  {
   "cell_type": "code",
   "execution_count": 1,
   "id": "9e7c7021-a1ce-4ef0-8bab-a18bebaca608",
   "metadata": {},
   "outputs": [
    {
     "name": "stdout",
     "output_type": "stream",
     "text": [
      "\n",
      "===== Student Management System =====\n",
      "1. Add Student\n",
      "2. Show All Students\n",
      "3. Search Student by Name\n",
      "4. Exit\n"
     ]
    },
    {
     "name": "stdin",
     "output_type": "stream",
     "text": [
      "Enter your choice:  2\n"
     ]
    },
    {
     "name": "stdout",
     "output_type": "stream",
     "text": [
      "\n",
      "--- All Students ---\n",
      "No students found.\n",
      "\n",
      "===== Student Management System =====\n",
      "1. Add Student\n",
      "2. Show All Students\n",
      "3. Search Student by Name\n",
      "4. Exit\n"
     ]
    },
    {
     "name": "stdin",
     "output_type": "stream",
     "text": [
      "Enter your choice:  4\n"
     ]
    },
    {
     "name": "stdout",
     "output_type": "stream",
     "text": [
      "Exiting program... Bye\n"
     ]
    }
   ],
   "source": [
    "# ------------------------------\n",
    "# CLASS (OOP ka use)\n",
    "# ------------------------------\n",
    "class Student:\n",
    "    def __init__(self, name, age, grade):\n",
    "        # yahan 'self' ka matlab object ka apna data\n",
    "        self.name = name    # variable\n",
    "        self.age = age\n",
    "        self.grade = grade\n",
    "\n",
    "    def show_info(self):\n",
    "        # Function jo ek student ka data print karega\n",
    "        print(f\"Name: {self.name}, Age: {self.age}, Grade: {self.grade}\")\n",
    "\n",
    "\n",
    "# ------------------------------\n",
    "# FUNCTION (repeatable kaam k liye)\n",
    "# ------------------------------\n",
    "def menu():\n",
    "    print(\"\\n===== Student Management System =====\")\n",
    "    print(\"1. Add Student\")\n",
    "    print(\"2. Show All Students\")\n",
    "    print(\"3. Search Student by Name\")\n",
    "    print(\"4. Exit\")\n",
    "\n",
    "\n",
    "# ------------------------------\n",
    "# MAIN PROGRAM\n",
    "# ------------------------------\n",
    "students = []  # LIST -> multiple students ko store karne k liye\n",
    "\n",
    "while True:   # LOOP -> program chalate rehne k liye\n",
    "    menu()    # menu function call\n",
    "    choice = input(\"Enter your choice: \")   # INPUT -> user se data lena\n",
    "\n",
    "    # IF/ELSE -> choice check karne k liye\n",
    "    if choice == \"1\":\n",
    "        # Student add karna\n",
    "        name = input(\"Enter student name: \")\n",
    "        age = int(input(\"Enter student age: \"))\n",
    "        grade = input(\"Enter student grade: \")\n",
    "\n",
    "        # Class ka object banaya\n",
    "        s = Student(name, age, grade)\n",
    "\n",
    "        # List me student add kiya\n",
    "        students.append(s)\n",
    "        print(\"✅ Student added successfully!\")\n",
    "\n",
    "    elif choice == \"2\":\n",
    "        # Sare students show karna\n",
    "        print(\"\\n--- All Students ---\")\n",
    "        if len(students) == 0:   # CONDITION -> check empty list\n",
    "            print(\"No students found.\")\n",
    "        else:\n",
    "            # LOOP -> list me se har student print karna\n",
    "            for st in students:\n",
    "                st.show_info()\n",
    "\n",
    "    elif choice == \"3\":\n",
    "        # Student search karna\n",
    "        search_name = input(\"Enter name to search: \")\n",
    "        found = False  # BOOLEAN flag\n",
    "        for st in students:\n",
    "            if st.name == search_name:\n",
    "                st.show_info()\n",
    "                found = True\n",
    "                break\n",
    "        if not found:\n",
    "            print(\"Student not found!\")\n",
    "\n",
    "    elif choice == \"4\":\n",
    "        print(\"Exiting program... Bye\")\n",
    "        break   # LOOP ko todna\n",
    "\n",
    "    else:\n",
    "        print(\"Invalid choice! Try again.\")\n"
   ]
  },
  {
   "cell_type": "code",
   "execution_count": null,
   "id": "071cf019-2161-4101-a2bf-5f21237fac1d",
   "metadata": {},
   "outputs": [],
   "source": []
  }
 ],
 "metadata": {
  "kernelspec": {
   "display_name": "Python 3 (ipykernel)",
   "language": "python",
   "name": "python3"
  },
  "language_info": {
   "codemirror_mode": {
    "name": "ipython",
    "version": 3
   },
   "file_extension": ".py",
   "mimetype": "text/x-python",
   "name": "python",
   "nbconvert_exporter": "python",
   "pygments_lexer": "ipython3",
   "version": "3.13.5"
  }
 },
 "nbformat": 4,
 "nbformat_minor": 5
}
