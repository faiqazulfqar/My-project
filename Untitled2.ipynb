{
 "cells": [
  {
   "cell_type": "markdown",
   "id": "68dd5a8e-edd7-4af2-ac07-49b8071dc131",
   "metadata": {},
   "source": [
    "# TASK1"
   ]
  },
  {
   "cell_type": "code",
   "execution_count": 2,
   "id": "0089c762-1eb7-4d9b-b4c8-29eeadc20bc1",
   "metadata": {},
   "outputs": [
    {
     "name": "stdin",
     "output_type": "stream",
     "text": [
      "Enter age:  59\n",
      "Enter monthly income:  60000\n",
      "Enter credit score:  800\n",
      "Collateral provided? (yes/no):  yes\n"
     ]
    },
    {
     "name": "stdout",
     "output_type": "stream",
     "text": [
      "Loan Approved!\n"
     ]
    }
   ],
   "source": [
    "customer_age = int(input(\"Enter age: \"))\n",
    "monthly_income = int(input(\"Enter monthly income: \"))\n",
    "credit_score = int(input(\"Enter credit score: \"))\n",
    "collateral = input(\"Collateral provided? (yes/no): \")\n",
    "\n",
    "if customer_age >= 21 and customer_age <= 60:\n",
    "    if monthly_income >= 50000:\n",
    "        if credit_score >= 700:\n",
    "            if customer_age > 50:\n",
    "                if collateral == \"yes\":\n",
    "                    print(\"Loan Approved!\")\n",
    "                else:\n",
    "                    print(\"Loan Rejected!\")\n",
    "            else:\n",
    "                print(\"Loan Rejected!\")\n",
    "        else:\n",
    "            print(\"Loan Rejected!\")\n",
    "    else:\n",
    "        print(\"Loan Rejected!\")\n",
    "else:\n",
    "    print(\"Loan Rejected!\")"
   ]
  },
  {
   "cell_type": "code",
   "execution_count": 3,
   "id": "bc57a7e7-2611-4beb-9cd9-827bef09db5e",
   "metadata": {},
   "outputs": [
    {
     "name": "stdin",
     "output_type": "stream",
     "text": [
      "Enter previous exam marks:  77\n",
      "Enter entry test marks:  88\n"
     ]
    },
    {
     "name": "stdout",
     "output_type": "stream",
     "text": [
      "Appear for an Interview!\n"
     ]
    }
   ],
   "source": [
    "previous_exam_marks = float(input(\"Enter previous exam marks: \"))\n",
    "entry_test_marks = float(input(\"Enter entry test marks: \"))\n",
    "\n",
    "if previous_exam_marks >= 70:\n",
    "    if previous_exam_marks > 80:\n",
    "        if entry_test_marks >= 70:\n",
    "            print(\"Direct Admission!\")\n",
    "        else:\n",
    "            print(\"Ineligible!\")\n",
    "    else: \n",
    "        if entry_test_marks >= 60:\n",
    "            print(\"Appear for an Interview!\")\n",
    "        else:\n",
    "            print(\"Ineligible!\")\n",
    "else:\n",
    "    print(\"Ineligible!\")\n",
    "    "
   ]
  },
  {
   "cell_type": "code",
   "execution_count": 4,
   "id": "c6183a9f-d05f-475d-94dc-445b470a6a29",
   "metadata": {},
   "outputs": [
    {
     "name": "stdin",
     "output_type": "stream",
     "text": [
      "Enter the country name:  Pakistan\n",
      "Enter the order price:  30000\n"
     ]
    },
    {
     "name": "stdout",
     "output_type": "stream",
     "text": [
      "Free shipping!\n"
     ]
    }
   ],
   "source": [
    "country = str(input(\"Enter the country name: \"))\n",
    "order_price = int(input(\"Enter the order price: \"))\n",
    "\n",
    "if country == \"Pakistan\":\n",
    "    if order_price >= 10000:\n",
    "        print(\"Free shipping!\")\n",
    "    else:\n",
    "        print(\"Delivery Charges: Rs. 300 \") \n",
    "else: \n",
    "    print(\"Order rejects! International shipping is unavailable. \")"
   ]
  },
  {
   "cell_type": "code",
   "execution_count": 5,
   "id": "a6b1582e-e296-4e35-9c59-d477d76a2d1e",
   "metadata": {},
   "outputs": [
    {
     "name": "stdin",
     "output_type": "stream",
     "text": [
      "Enter the employee's experience:  4\n",
      "Enter the salary:  25000\n"
     ]
    },
    {
     "name": "stdout",
     "output_type": "stream",
     "text": [
      "Give 5% bonus!\n"
     ]
    }
   ],
   "source": [
    "emp_work_year = int(input(\"Enter the employee's experience: \"))\n",
    "salary = int(input(\"Enter the salary: \"))\n",
    "\n",
    "if emp_work_year >= 10:\n",
    "    print(\"Give 20% bonus!\")\n",
    "else:\n",
    "    if emp_work_year >= 5:\n",
    "        print(\"Give 10% bonus!\")\n",
    "    else:\n",
    "        if salary < 30000:\n",
    "            print(\"Give 5% bonus!\")\n",
    "        else:\n",
    "            print(\"Give no bonus!\")"
   ]
  },
  {
   "cell_type": "code",
   "execution_count": 1,
   "id": "b53622b4-db0e-46ab-a211-a53edd507da9",
   "metadata": {},
   "outputs": [
    {
     "name": "stdin",
     "output_type": "stream",
     "text": [
      "Enter marks of first subject:  51\n",
      "Enter marks of second subject:  67\n",
      "Enter marks of third subject:  56\n"
     ]
    },
    {
     "name": "stdout",
     "output_type": "stream",
     "text": [
      "Second division!\n"
     ]
    }
   ],
   "source": [
    "sub1 = int(input(\"Enter marks of first subject: \"))\n",
    "sub2 = int(input(\"Enter marks of second subject: \"))\n",
    "sub3 = int(input(\"Enter marks of third subject: \"))\n",
    "\n",
    "if sub1 >= 40 and sub2 >= 40 and sub3 >= 40:\n",
    "    if sub1 > 60 and sub2 >= 60 and sub3 >= 60:\n",
    "        print(\"First Divsion!\")\n",
    "    else:\n",
    "        if sub1 > 50 and sub2 > 50 and sub3 > 50:\n",
    "            print(\"Second division!\")\n",
    "        else:\n",
    "            print(\"Third division!\")"
   ]
  },
  {
   "cell_type": "code",
   "execution_count": 2,
   "id": "5f965825-a35b-4c73-9e21-bc36d1f2a128",
   "metadata": {},
   "outputs": [
    {
     "name": "stdin",
     "output_type": "stream",
     "text": [
      "Enter temperature:  22\n",
      "Enter weather conditon:  rainy\n"
     ]
    },
    {
     "name": "stdout",
     "output_type": "stream",
     "text": [
      "Carrying an umbrella along with a light sweater\n"
     ]
    }
   ],
   "source": [
    "temp = int(input(\"Enter temperature: \"))\n",
    "weather = input(\"Enter weather conditon: \")\n",
    "\n",
    "if temp < 10:\n",
    "    print(\"Wearing heavy jackets!\")\n",
    "else:\n",
    "    if temp>=10 and temp <=25:\n",
    "        if weather == \"rainy\":\n",
    "            print(\"Carrying an umbrella along with a light sweater\")\n",
    "        else:\n",
    "            print(\"Wear a light sweater!\")\n",
    "    else:\n",
    "        if temp>25 and temp<= 35 and weather==\"sunny\":\n",
    "            print(\"Good time for an outing\")\n",
    "        else:\n",
    "            if temp >35:\n",
    "                print(\"Stay indoors due to heat!\")\n",
    "            else:\n",
    "                print(\"No suggestion!\")\n",
    "        "
   ]
  },
  {
   "cell_type": "code",
   "execution_count": 3,
   "id": "c4f0e0f9-d365-4166-b824-053f9f7a56be",
   "metadata": {},
   "outputs": [
    {
     "name": "stdin",
     "output_type": "stream",
     "text": [
      "Enter patient's age:  61\n",
      "Enter the patient's condition critical yes or no? :  no\n",
      "Enter whether the patient have prior appointment yes or no? :  yes\n"
     ]
    },
    {
     "name": "stdout",
     "output_type": "stream",
     "text": [
      "Immediate Treatment!\n"
     ]
    }
   ],
   "source": [
    "patient_age = int(input(\"Enter patient's age: \"))\n",
    "critical = input(\"Enter the patient's condition critical yes or no? : \")\n",
    "appointment = input(\"Enter whether the patient have prior appointment yes or no? : \")\n",
    "\n",
    "if patient_age > 60:\n",
    "    print(\"Immediate Treatment!\")\n",
    "else:\n",
    "    if critical == \"yes\":\n",
    "        print(\"Immediate Treatment!\")\n",
    "    else:\n",
    "        if appointment == \"yes\":\n",
    "            print(\"Treated after priority cases!\")\n",
    "        else:\n",
    "            print(\"Wait in the general queue!\")"
   ]
  },
  {
   "cell_type": "code",
   "execution_count": 4,
   "id": "342d2c74-c9a4-4b8b-8706-895f73d8205a",
   "metadata": {},
   "outputs": [
    {
     "name": "stdin",
     "output_type": "stream",
     "text": [
      "Enter account balance:  35000\n"
     ]
    },
    {
     "name": "stdout",
     "output_type": "stream",
     "text": [
      "Account Type: Gold\n"
     ]
    }
   ],
   "source": [
    "balance = int(input(\"Enter account balance: \"))\n",
    "\n",
    "if balance>= 1000000:\n",
    "    print(\"Account Type: Premium\")\n",
    "else:\n",
    "    if balance>= 10000:\n",
    "        print(\"Account Type: Gold\")\n",
    "    else:\n",
    "        if balance >= 10000:\n",
    "            print(\"Account Type: Silver\")\n",
    "        else:\n",
    "            print(\"Account Type: Basic\")"
   ]
  },
  {
   "cell_type": "code",
   "execution_count": 5,
   "id": "3d7a3e23-f19d-4a20-a55f-1e29a66a315e",
   "metadata": {},
   "outputs": [
    {
     "name": "stdin",
     "output_type": "stream",
     "text": [
      "Enter customer age!  56\n",
      "Enter showtime hour:  21\n"
     ]
    },
    {
     "name": "stdout",
     "output_type": "stream",
     "text": [
      "Final Ticket Price:  500\n"
     ]
    }
   ],
   "source": [
    "age = int(input(\"Enter customer age! \"))\n",
    "showtime = int(input(\"Enter showtime hour: \"))\n",
    "\n",
    "child_price = 200\n",
    "adult_price = 500\n",
    "senior_price = 900\n",
    "\n",
    "if age <12:\n",
    "    price = child_price\n",
    "else:\n",
    "    if age<=60:\n",
    "        price=adult_price\n",
    "    else: \n",
    "        price=senior_price\n",
    "\n",
    "\n",
    "if showtime>22:\n",
    "    price=price-(price*0.1)\n",
    "\n",
    "print(\"Final Ticket Price: \", price)"
   ]
  },
  {
   "cell_type": "code",
   "execution_count": 6,
   "id": "93e4edee-0a6f-4b49-b5d9-d2d9227713d3",
   "metadata": {},
   "outputs": [
    {
     "name": "stdin",
     "output_type": "stream",
     "text": [
      "Enter student marks:  90\n",
      "Enyer family income:  24000\n"
     ]
    },
    {
     "name": "stdout",
     "output_type": "stream",
     "text": [
      "Full Scholarship granted!\n"
     ]
    }
   ],
   "source": [
    "marks = int(input(\"Enter student marks: \"))\n",
    "income = int(input(\"Enyer family income: \"))\n",
    "\n",
    "if marks >= 85:\n",
    "    if income <= 50000:\n",
    "        print(\"Full Scholarship granted!\")\n",
    "    else:\n",
    "        print(\"Half Scholarship granted!\")\n",
    "else:\n",
    "    if marks >= 70:\n",
    "        if income < 30000:\n",
    "            print(\"Partial Scholarship granted!\")\n",
    "        else:\n",
    "            print(\"Not Eligible for Scholarship!\")\n",
    "    else:\n",
    "        print(\"Not Eligible for Scholarship!\")"
   ]
  },
  {
   "cell_type": "code",
   "execution_count": 7,
   "id": "e121748d-9f4c-4a6f-91da-90faeefec868",
   "metadata": {},
   "outputs": [
    {
     "name": "stdin",
     "output_type": "stream",
     "text": [
      "Enter total bill amount:  4000\n",
      "Payment method:  credit\n"
     ]
    },
    {
     "name": "stdout",
     "output_type": "stream",
     "text": [
      "Final Bill Account:  3420.0\n"
     ]
    }
   ],
   "source": [
    "bill = int(input(\"Enter total bill amount: \"))\n",
    "payment = input(\"Payment method: \")\n",
    "\n",
    "if bill >= 5000:\n",
    "    discount = bill *0.2\n",
    "    bill = bill - discount\n",
    "else: \n",
    "    if bill>=3000:\n",
    "        discount = bill*0.1\n",
    "        bill = bill - discount\n",
    "    else:\n",
    "        discount=0\n",
    "\n",
    "\n",
    "if payment == \"credit\":\n",
    "    extra_discount =bill*0.05\n",
    "    bill = bill - extra_discount\n",
    "\n",
    "\n",
    "print(\"Final Bill Account: \" , bill)"
   ]
  },
  {
   "cell_type": "code",
   "execution_count": 8,
   "id": "a6e94906-b7a9-46fb-9df9-6681f4cb4e3d",
   "metadata": {},
   "outputs": [
    {
     "name": "stdin",
     "output_type": "stream",
     "text": [
      "Enter driver's age:  54\n",
      "Enter driving experience in years:  3\n"
     ]
    },
    {
     "name": "stdout",
     "output_type": "stream",
     "text": [
      "Medium Premium!\n"
     ]
    }
   ],
   "source": [
    "age = int(input(\"Enter driver's age: \"))\n",
    "experience = int(input(\"Enter driving experience in years: \"))\n",
    "\n",
    "if age<25:\n",
    "    print(\"High Premium!\")\n",
    "else:\n",
    "    if age<= 60:\n",
    "        if experience >=5:\n",
    "            print(\"Normal Premium!\")\n",
    "        else: \n",
    "            print(\"Medium Premium!\")\n",
    "    else: \n",
    "        print(\"High Premium!\")"
   ]
  },
  {
   "cell_type": "code",
   "execution_count": 9,
   "id": "30bacbd6-a248-42cd-8f2d-bdf7adff1e78",
   "metadata": {},
   "outputs": [
    {
     "name": "stdin",
     "output_type": "stream",
     "text": [
      "Student registered yes or no? :  yes\n",
      "Payment completed yes or no? :  no\n",
      "cheating detected yes or no? :  yes\n"
     ]
    },
    {
     "name": "stdout",
     "output_type": "stream",
     "text": [
      "Access Denied: Payment not completed!\n"
     ]
    }
   ],
   "source": [
    "registered = input(\"Student registered yes or no? : \")\n",
    "payment = input(\"Payment completed yes or no? : \")\n",
    "cheating = input(\"cheating detected yes or no? : \")\n",
    "\n",
    "if registered == \"yes\":\n",
    "    if payment == \"yes\":\n",
    "        if cheating == \"yes\":\n",
    "            print(\"Account locked due to cheating! \")\n",
    "        else:\n",
    "            print(\"Acccess Granted: Start exam! \")\n",
    "    else:\n",
    "        print(\"Access Denied: Payment not completed!\")\n",
    "else:\n",
    "    print(\"Access Denied: Not Registered!\")"
   ]
  },
  {
   "cell_type": "code",
   "execution_count": 10,
   "id": "2fead3ac-d611-4858-b2f1-8873995c0a42",
   "metadata": {},
   "outputs": [
    {
     "name": "stdin",
     "output_type": "stream",
     "text": [
      "Enter room type:  standerd\n",
      "Enter number of nights:  3200\n"
     ]
    },
    {
     "name": "stdout",
     "output_type": "stream",
     "text": [
      "Final Bill Amount: Rs. 0.0\n"
     ]
    }
   ],
   "source": [
    "room_type = input(\"Enter room type: \")\n",
    "nights= int(input(\"Enter number of nights: \"))\n",
    "\n",
    "if room_type == \"Luxury\":\n",
    "    cost_per_night = 10000\n",
    "else:\n",
    "    if room_type == \"Deluxe\":\n",
    "        cost_per_night=6000\n",
    "    else: \n",
    "        if room_type == \"Standard\":\n",
    "            cost_per_night=3000\n",
    "        else:\n",
    "            cost_per_night=0\n",
    "\n",
    "\n",
    "total = cost_per_night*nights\n",
    "\n",
    "if nights>5:\n",
    "    discount= total *0.15\n",
    "    total = total-discount\n",
    "\n",
    "print(\"Final Bill Amount: Rs.\", total)"
   ]
  },
  {
   "cell_type": "code",
   "execution_count": 11,
   "id": "6dec0402-3851-45aa-aa31-0c533cd63956",
   "metadata": {},
   "outputs": [
    {
     "name": "stdin",
     "output_type": "stream",
     "text": [
      "Is anyone at home yes or no? :  no\n",
      "Enter hour of the day:  5\n",
      "Enter temperature:  42\n"
     ]
    },
    {
     "name": "stdout",
     "output_type": "stream",
     "text": [
      "All appliances turned off!\n"
     ]
    }
   ],
   "source": [
    "at_home= input(\"Is anyone at home yes or no? : \")\n",
    "time = int(input(\"Enter hour of the day: \"))\n",
    "temp = int(input(\"Enter temperature: \"))\n",
    "\n",
    "if at_home == \"no\":\n",
    "    print(\"All appliances turned off!\")\n",
    "else:\n",
    "    if time >= 18 or time < 6:\n",
    "        print(\"Lights ON\")\n",
    "    else:\n",
    "        print(\"Lights OFF\")\n",
    "\n",
    "\n",
    "    if temp > 30:\n",
    "        print(\"Fan/AC ON\")\n",
    "    else:\n",
    "        print(\"Fan/AC OFF\")"
   ]
  }
 ],
 "metadata": {
  "kernelspec": {
   "display_name": "Python 3 (ipykernel)",
   "language": "python",
   "name": "python3"
  },
  "language_info": {
   "codemirror_mode": {
    "name": "ipython",
    "version": 3
   },
   "file_extension": ".py",
   "mimetype": "text/x-python",
   "name": "python",
   "nbconvert_exporter": "python",
   "pygments_lexer": "ipython3",
   "version": "3.13.5"
  }
 },
 "nbformat": 4,
 "nbformat_minor": 5
}
