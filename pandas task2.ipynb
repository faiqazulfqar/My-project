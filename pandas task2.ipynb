{
 "cells": [
  {
   "cell_type": "code",
   "execution_count": 1,
   "id": "d371eced-ebe0-40d1-a827-0601a1889119",
   "metadata": {},
   "outputs": [
    {
     "name": "stdout",
     "output_type": "stream",
     "text": [
      "Original DataFrame:\n",
      "        Name Price Stock ReleaseDate Availability\n",
      "0  Product A   100    50  2023-01-15     in_stock\n",
      "1  Product B   250     0  2022-11-20    pre_order\n",
      "2  Product C   300   120  2023-03-05     in_stock\n",
      "\n",
      " Original Data Types:\n",
      "Name            object\n",
      "Price           object\n",
      "Stock           object\n",
      "ReleaseDate     object\n",
      "Availability    object\n",
      "dtype: object\n",
      "\n",
      " Cleaned Data Types:\n",
      "Name                    object\n",
      "Price                    int64\n",
      "Stock                    int64\n",
      "ReleaseDate     datetime64[ns]\n",
      "Availability          category\n",
      "dtype: object\n",
      "\n",
      " Cleaned DataFrame:\n",
      "        Name  Price  Stock ReleaseDate Availability\n",
      "0  Product A    100     50  2023-01-15     in_stock\n",
      "1  Product B    250      0  2022-11-20    pre_order\n",
      "2  Product C    300    120  2023-03-05     in_stock\n"
     ]
    }
   ],
   "source": [
    "import pandas as pd\n",
    "\n",
    "data = {\n",
    "    \"Name\": [\"Product A\", \"Product B\", \"Product C\"],\n",
    "    \"Price\": [\"100\", \"250\", \"300\"],     \n",
    "    \"Stock\": [\"50\", \"0\", \"120\"],       \n",
    "    \"ReleaseDate\": [\"2023-01-15\", \"2022-11-20\", \"2023-03-05\"],\n",
    "    \"Availability\": [\"in_stock\", \"pre_order\", \"in_stock\"]      \n",
    "}\n",
    "\n",
    "df = pd.DataFrame(data)\n",
    "\n",
    "print(\"Original DataFrame:\")\n",
    "print(df)\n",
    "print(\"\\n Original Data Types:\")\n",
    "print(df.dtypes)\n",
    "\n",
    "df[\"Price\"] = pd.to_numeric(df[\"Price\"], errors=\"coerce\")\n",
    "df[\"Stock\"] = pd.to_numeric(df[\"Stock\"], errors=\"coerce\")\n",
    "df[\"ReleaseDate\"] = pd.to_datetime(df[\"ReleaseDate\"], errors=\"coerce\")\n",
    "df[\"Availability\"] = df[\"Availability\"].astype(\"category\")\n",
    "\n",
    "print(\"\\n Cleaned Data Types:\")\n",
    "print(df.dtypes)\n",
    "\n",
    "print(\"\\n Cleaned DataFrame:\")\n",
    "print(df)\n"
   ]
  },
  {
   "cell_type": "code",
   "execution_count": null,
   "id": "98b33db1-a60e-4c45-bfe2-c7075c469cd1",
   "metadata": {},
   "outputs": [],
   "source": [
    "import pandas as pd\n",
    "import numpy as np\n",
    "\n",
    "data = {\n",
    "    \"Name\": [\"Product A\", \"Product B\", None],\n",
    "    \"Price\": [100, None, None],\n",
    "    \"Stock\": [50, None, None],\n",
    "    \"ReleaseDate\": [None, None, None], \n",
    "    \"Notes\": [np.nan, \"Special offer\", np.nan] \n",
    "}\n",
    "\n",
    "df = pd.DataFrame(data)\n",
    "\n",
    "print(\"Original DataFrame:\")\n",
    "print(df)\n",
    "\n",
    "empty_cols = df.columns[df.isna().all()].tolist()\n",
    "print(\"\\nColumns entirely empty:\", empty_cols)\n",
    "ws ---\n",
    "empty_rows = df.index[df.isna().all(axis=1)].tolist()\n",
    "print(\"Rows entirely empty:\", empty_rows)\n",
    "\n",
    "# --- 3. Drop entirely empty columns & rows ---\n",
    "df_cleaned = df.dropna(axis=1, how=\"all\")  # drop columns\n",
    "df_cleaned = df_cleaned.dropna(axis=0, how=\"all\")  # drop rows\n",
    "\n",
    "print(\"\\n✅ Cleaned DataFrame (after dropping empty rows/cols):\")\n",
    "print(df_cleaned)\n",
    "\n",
    "# --- 4. Detect nearly empty columns (e.g., more than 70% NaN) ---\n",
    "threshold = 0.7\n",
    "nearly_empty_cols = df.columns[(df.isna().mean() > threshold)].tolist()\n",
    "print(\"\\nColumns nearly empty (>70% missing):\", nearly_empty_cols)\n"
   ]
  }
 ],
 "metadata": {
  "kernelspec": {
   "display_name": "Python 3 (ipykernel)",
   "language": "python",
   "name": "python3"
  },
  "language_info": {
   "codemirror_mode": {
    "name": "ipython",
    "version": 3
   },
   "file_extension": ".py",
   "mimetype": "text/x-python",
   "name": "python",
   "nbconvert_exporter": "python",
   "pygments_lexer": "ipython3",
   "version": "3.13.5"
  }
 },
 "nbformat": 4,
 "nbformat_minor": 5
}
