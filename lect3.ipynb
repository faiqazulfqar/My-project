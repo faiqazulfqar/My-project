{
 "cells": [
  {
   "cell_type": "markdown",
   "id": "75008a01-a0fe-4525-a46e-4d268330dcf0",
   "metadata": {},
   "source": [
    "# string"
   ]
  },
  {
   "cell_type": "code",
   "execution_count": 1,
   "id": "9292251d-7f52-46e1-bac0-ad3e08764977",
   "metadata": {},
   "outputs": [
    {
     "name": "stdout",
     "output_type": "stream",
     "text": [
      "Hello\n"
     ]
    }
   ],
   "source": [
    "text = \"Hello World\"\n",
    "print(text[0:5])\n"
   ]
  },
  {
   "cell_type": "markdown",
   "id": "12d458e7-c2ab-42c6-b8b7-4be5a52fe2bb",
   "metadata": {},
   "source": [
    "# SPLIT & STRIP"
   ]
  },
  {
   "cell_type": "code",
   "execution_count": 2,
   "id": "d986bb93-faae-427b-91d7-656b78ab3a19",
   "metadata": {},
   "outputs": [
    {
     "name": "stdout",
     "output_type": "stream",
     "text": [
      "['apple', 'banana', 'orange']\n"
     ]
    }
   ],
   "source": [
    "text = \"apple,banana,orange\"\n",
    "fruits = text.split(\",\")\n",
    "print(fruits)"
   ]
  },
  {
   "cell_type": "code",
   "execution_count": 3,
   "id": "6ddf8b9b-332b-47b8-be6b-90bcf29b14fc",
   "metadata": {},
   "outputs": [
    {
     "name": "stdout",
     "output_type": "stream",
     "text": [
      "Hello World\n"
     ]
    }
   ],
   "source": [
    "name = \"   Hello World   \"\n",
    "print(name.strip())"
   ]
  },
  {
   "cell_type": "code",
   "execution_count": 4,
   "id": "6de93c88-a68e-4538-8522-4b6868b1d804",
   "metadata": {},
   "outputs": [
    {
     "name": "stdout",
     "output_type": "stream",
     "text": [
      "['I', 'love', 'Python']\n"
     ]
    }
   ],
   "source": [
    "sentence = \"I love Python\"\n",
    "words = sentence.split()\n",
    "print(words)"
   ]
  },
  {
   "cell_type": "code",
   "execution_count": 5,
   "id": "80a7b438-2964-4d65-8a61-101bdca7108c",
   "metadata": {},
   "outputs": [
    {
     "name": "stdout",
     "output_type": "stream",
     "text": [
      "['she is a good girl']\n"
     ]
    }
   ],
   "source": [
    "text = \"she is a good girl\"\n",
    "text = text.split(\",\")\n",
    "print(text)"
   ]
  },
  {
   "cell_type": "code",
   "execution_count": 8,
   "id": "96fb7a04-aba0-4d4c-b28f-d298a823c9a1",
   "metadata": {},
   "outputs": [
    {
     "name": "stdout",
     "output_type": "stream",
     "text": [
      "love            pakistan\n"
     ]
    }
   ],
   "source": [
    "text = \"    love pakistan     \"\n",
    "print(text.strip())"
   ]
  },
  {
   "cell_type": "code",
   "execution_count": 9,
   "id": "50c18188-750e-48d1-bc66-9f51358057f4",
   "metadata": {},
   "outputs": [
    {
     "name": "stdout",
     "output_type": "stream",
     "text": [
      "hlowrd\n"
     ]
    }
   ],
   "source": [
    "text = \"hello world\"\n",
    "print(text[::2])"
   ]
  },
  {
   "cell_type": "code",
   "execution_count": 13,
   "id": "3a59cb1b-9fad-4b1b-975a-ad404ca37cfd",
   "metadata": {},
   "outputs": [
    {
     "name": "stdout",
     "output_type": "stream",
     "text": [
      "lann aaeet\n"
     ]
    }
   ],
   "source": [
    "text = \"learning management\"\n",
    "print(text[::2])"
   ]
  },
  {
   "cell_type": "code",
   "execution_count": 17,
   "id": "6705f86f-bddf-4678-bfcb-0431f0a2f415",
   "metadata": {},
   "outputs": [
    {
     "name": "stdout",
     "output_type": "stream",
     "text": [
      "['', ' is a good girl']\n"
     ]
    }
   ],
   "source": [
    "text = \"she is a good girl\"\n",
    "text = text.split(\"she\")\n",
    "print(text)"
   ]
  },
  {
   "cell_type": "code",
   "execution_count": null,
   "id": "5edc6f51-9aa4-4a36-8154-ce2e4c72c470",
   "metadata": {},
   "outputs": [],
   "source": []
  }
 ],
 "metadata": {
  "kernelspec": {
   "display_name": "Python 3 (ipykernel)",
   "language": "python",
   "name": "python3"
  },
  "language_info": {
   "codemirror_mode": {
    "name": "ipython",
    "version": 3
   },
   "file_extension": ".py",
   "mimetype": "text/x-python",
   "name": "python",
   "nbconvert_exporter": "python",
   "pygments_lexer": "ipython3",
   "version": "3.13.5"
  }
 },
 "nbformat": 4,
 "nbformat_minor": 5
}
