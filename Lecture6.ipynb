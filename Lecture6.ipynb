{
 "cells": [
  {
   "cell_type": "code",
   "execution_count": 1,
   "id": "701c66cd-9c4c-4b77-be1d-c97c7a434179",
   "metadata": {},
   "outputs": [
    {
     "name": "stdout",
     "output_type": "stream",
     "text": [
      "Python List Sum: 49999995000000 Time: 0.12926220893859863 seconds\n",
      "NumPy Array Sum: 49999995000000 Time: 0.009229421615600586 seconds\n"
     ]
    }
   ],
   "source": [
    "import numpy as np\n",
    "import time\n",
    "\n",
    "# Large size\n",
    "N = 10_000_000\n",
    "\n",
    "# Python List\n",
    "py_list = list(range(N))\n",
    "\n",
    "start = time.time()\n",
    "py_sum = sum(py_list)\n",
    "end = time.time()\n",
    "print(\"Python List Sum:\", py_sum, \"Time:\", end - start, \"seconds\")\n",
    "\n",
    "# NumPy Array\n",
    "np_array = np.arange(N)\n",
    "\n",
    "start = time.time()\n",
    "np_sum = np_array.sum()\n",
    "end = time.time()\n",
    "print(\"NumPy Array Sum:\", np_sum, \"Time:\", end - start, \"seconds\")\n"
   ]
  },
  {
   "cell_type": "code",
   "execution_count": 3,
   "id": "6163fb87-c359-4b97-8188-f8aa896aafd4",
   "metadata": {},
   "outputs": [
    {
     "name": "stdout",
     "output_type": "stream",
     "text": [
      "Python List Example Done\n",
      "NumPy Array Example Done\n"
     ]
    }
   ],
   "source": [
    "import numpy as np\n",
    "\n",
    "# Large size\n",
    "N = 1_000_000\n",
    "\n",
    "# Python list\n",
    "py_list = list(range(N))\n",
    "# Multiply each element by 2 (using loop)\n",
    "result_list = [x * 2 for x in py_list]\n",
    "\n",
    "print(\"Python List Example Done\")\n",
    "\n",
    "# NumPy array\n",
    "np_array = np.arange(N)\n",
    "# Multiply each element by 2 (vectorized operation)\n",
    "result_np = np_array * 2\n",
    "\n",
    "print(\"NumPy Array Example Done\")\n"
   ]
  },
  {
   "cell_type": "code",
   "execution_count": 1,
   "id": "a77aff83-a829-4d80-98ae-194d30da4fee",
   "metadata": {},
   "outputs": [],
   "source": [
    "import numpy as np"
   ]
  },
  {
   "cell_type": "code",
   "execution_count": null,
   "id": "b5d71909-621c-4aa0-931b-c0f7df356c82",
   "metadata": {},
   "outputs": [],
   "source": []
  }
 ],
 "metadata": {
  "kernelspec": {
   "display_name": "Python 3 (ipykernel)",
   "language": "python",
   "name": "python3"
  },
  "language_info": {
   "codemirror_mode": {
    "name": "ipython",
    "version": 3
   },
   "file_extension": ".py",
   "mimetype": "text/x-python",
   "name": "python",
   "nbconvert_exporter": "python",
   "pygments_lexer": "ipython3",
   "version": "3.13.5"
  }
 },
 "nbformat": 4,
 "nbformat_minor": 5
}
