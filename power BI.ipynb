{
 "cells": [
  {
   "cell_type": "markdown",
   "id": "54dd954c-541c-48f7-8234-85ef860310e9",
   "metadata": {},
   "source": [
    "# Data Transformation"
   ]
  },
  {
   "cell_type": "code",
   "execution_count": 2,
   "id": "137c266c-6b1c-4663-ab29-7b9a665ae030",
   "metadata": {},
   "outputs": [
    {
     "name": "stdout",
     "output_type": "stream",
     "text": [
      "   age  workclass     education  Education_Level_Num      marital-status  \\\n",
      "0   25    Private          11th                    7       Never-married   \n",
      "1   38    Private       HS-grad                    9  Married-civ-spouse   \n",
      "2   28  Local-gov    Assoc-acdm                   12  Married-civ-spouse   \n",
      "3   44    Private  Some-college                   10  Married-civ-spouse   \n",
      "4   18    Unknown  Some-college                   10       Never-married   \n",
      "\n",
      "          occupation relationship   race  gender  capital-gain  capital-loss  \\\n",
      "0  Machine-op-inspct    Own-child  Black    Male             0             0   \n",
      "1    Farming-fishing      Husband  White    Male             0             0   \n",
      "2    Protective-serv      Husband  White    Male             0             0   \n",
      "3  Machine-op-inspct      Husband  Black    Male          7688             0   \n",
      "4            Unknown    Own-child  White  Female             0             0   \n",
      "\n",
      "   Hours_Per_Week native-country income  \n",
      "0              40  United-States  <=50K  \n",
      "1              50  United-States  <=50K  \n",
      "2              40  United-States   >50K  \n",
      "3              40  United-States   >50K  \n",
      "4              30  United-States  <=50K  \n"
     ]
    }
   ],
   "source": [
    "import pandas as pd\n",
    "\n",
    "# Dataset load\n",
    "df = pd.read_csv(\"C:\\\\Users\\\\Gateway\\\\Downloads\\\\adult.csv\")\n",
    "\n",
    "# Q1. Replace missing values (\"?\") in 'workclass' and 'occupation'\n",
    "df[\"workclass\"] = df[\"workclass\"].replace(\"?\", \"Unknown\")\n",
    "df[\"occupation\"] = df[\"occupation\"].replace(\"?\", \"Unknown\")\n",
    "\n",
    "# Q2. Remove extra spaces in categorical values\n",
    "df[\"workclass\"] = df[\"workclass\"].str.strip()\n",
    "df[\"occupation\"] = df[\"occupation\"].str.strip()\n",
    "df[\"education\"] = df[\"education\"].str.strip()\n",
    "\n",
    "# Q3. Rename columns to readable names\n",
    "df = df.rename(columns={\n",
    "    \"educational-num\": \"Education_Level_Num\",\n",
    "    \"fnlwgt\": \"Sampling_Weight\",\n",
    "    \"hours-per-week\": \"Hours_Per_Week\"\n",
    "})\n",
    "\n",
    "# Q4. Drop 'Sampling_Weight' column if not needed\n",
    "df = df.drop(columns=[\"Sampling_Weight\"])\n",
    "\n",
    "# Final cleaned dataset preview\n",
    "print(df.head())\n"
   ]
  },
  {
   "cell_type": "code",
   "execution_count": 3,
   "id": "eae8f144-d076-478c-88d6-67c8a2d223d5",
   "metadata": {},
   "outputs": [
    {
     "name": "stdout",
     "output_type": "stream",
     "text": [
      "age                   int64\n",
      "workclass          category\n",
      "fnlwgt                int64\n",
      "education          category\n",
      "educational-num       int64\n",
      "marital-status       object\n",
      "occupation         category\n",
      "relationship         object\n",
      "race               category\n",
      "gender               object\n",
      "dtype: object\n",
      "  income income_binary\n",
      "0  <=50K             0\n",
      "1  <=50K             0\n",
      "2   >50K             1\n",
      "3   >50K             1\n",
      "4  <=50K             0\n"
     ]
    }
   ],
   "source": [
    "import pandas as pd\n",
    "\n",
    "# Dataset load\n",
    "df = pd.read_csv(\"C:\\\\Users\\\\Gateway\\\\Downloads\\\\adult.csv\")\n",
    "\n",
    "# Q5. Convert numeric columns to correct data types\n",
    "numeric_cols = [\"age\", \"hours-per-week\", \"capital-gain\", \"capital-loss\", \"educational-num\"]\n",
    "df[numeric_cols] = df[numeric_cols].apply(pd.to_numeric, errors=\"coerce\")\n",
    "\n",
    "# Convert categorical columns to 'category' type\n",
    "categorical_cols = [\"income\", \"race\", \"workclass\", \"education\", \"occupation\"]\n",
    "df[categorical_cols] = df[categorical_cols].astype(\"category\")\n",
    "\n",
    "#  Q6. Convert income column into binary (0 = <=50K, 1 = >50K)\n",
    "df[\"income_binary\"] = df[\"income\"].apply(lambda x: 0 if x.strip() == \"<=50K\" else 1)\n",
    "\n",
    "# Check data types after corrections\n",
    "print(df.dtypes.head(10))\n",
    "\n",
    "# Preview\n",
    "print(df[[\"income\", \"income_binary\"]].head())\n"
   ]
  },
  {
   "cell_type": "code",
   "execution_count": 4,
   "id": "a33d8eb5-0dc6-4c15-b5ee-bf2cd2249a32",
   "metadata": {},
   "outputs": [
    {
     "name": "stdout",
     "output_type": "stream",
     "text": [
      "      education education_group  age age_group  capital-gain has_capital_gain  \\\n",
      "0          11th             Low   25     Young             0               No   \n",
      "1       HS-grad          Medium   38    Middle             0               No   \n",
      "2    Assoc-acdm          Medium   28     Young             0               No   \n",
      "3  Some-college          Medium   44    Middle          7688              Yes   \n",
      "4  Some-college          Medium   18     Young             0               No   \n",
      "\n",
      "   hours-per-week work_hours_category      marital-status  \\\n",
      "0              40           Full-time       Never-married   \n",
      "1              50           Full-time  Married-civ-spouse   \n",
      "2              40           Full-time  Married-civ-spouse   \n",
      "3              40           Full-time  Married-civ-spouse   \n",
      "4              30           Part-time       Never-married   \n",
      "\n",
      "  marital_status_simple native-country native-country-grouped  \n",
      "0           Not Married  United-States          United-States  \n",
      "1               Married  United-States          United-States  \n",
      "2               Married  United-States          United-States  \n",
      "3               Married  United-States          United-States  \n",
      "4           Not Married  United-States          United-States  \n"
     ]
    }
   ],
   "source": [
    "# Q7. Group education levels\n",
    "low = [\"Preschool\", \"1st-4th\", \"5th-6th\", \"7th-8th\", \"9th\", \"10th\", \"11th\", \"12th\"]\n",
    "medium = [\"HS-grad\", \"Some-college\", \"Assoc-voc\", \"Assoc-acdm\"]\n",
    "high = [\"Bachelors\", \"Masters\", \"Doctorate\", \"Prof-school\"]\n",
    "\n",
    "def map_education(x):\n",
    "    if x in low: return \"Low\"\n",
    "    elif x in medium: return \"Medium\"\n",
    "    elif x in high: return \"High\"\n",
    "    else: return \"Other\"\n",
    "\n",
    "df[\"education_group\"] = df[\"education\"].apply(map_education)\n",
    "\n",
    "# Q8. Age groups\n",
    "df[\"age_group\"] = pd.cut(df[\"age\"], \n",
    "                         bins=[0, 30, 50, 100], \n",
    "                         labels=[\"Young\", \"Middle\", \"Senior\"])\n",
    "\n",
    "# Q9. Capital Gain flag\n",
    "df[\"has_capital_gain\"] = df[\"capital-gain\"].apply(lambda x: \"Yes\" if x > 0 else \"No\")\n",
    "\n",
    "# Q10. Work Hours category\n",
    "def work_hours_category(x):\n",
    "    if x < 35: return \"Part-time\"\n",
    "    elif 35 <= x <= 50: return \"Full-time\"\n",
    "    else: return \"Overtime\"\n",
    "\n",
    "df[\"work_hours_category\"] = df[\"hours-per-week\"].apply(work_hours_category)\n",
    "\n",
    "# Q11. Simplify marital status\n",
    "df[\"marital_status_simple\"] = df[\"marital-status\"].apply(\n",
    "    lambda x: \"Married\" if \"Married\" in x else \"Not Married\"\n",
    ")\n",
    "\n",
    "# Q12. Group rare native-country values\n",
    "country_counts = df[\"native-country\"].value_counts()\n",
    "rare_countries = country_counts[country_counts < 100].index  # less than 100 occurrences\n",
    "df[\"native-country-grouped\"] = df[\"native-country\"].replace(rare_countries, \"Other\")\n",
    "\n",
    "# Preview final engineered dataset\n",
    "print(df[[\"education\", \"education_group\", \"age\", \"age_group\", \"capital-gain\", \"has_capital_gain\", \"hours-per-week\", \"work_hours_category\", \"marital-status\", \"marital_status_simple\", \"native-country\", \"native-country-grouped\"]].head())\n"
   ]
  },
  {
   "cell_type": "code",
   "execution_count": 5,
   "id": "ebedf7eb-4556-492c-b1ec-16f8f1b32f75",
   "metadata": {},
   "outputs": [
    {
     "name": "stdout",
     "output_type": "stream",
     "text": [
      "   age         workclass  educational-num income  Capital_Type  Capital_Amount\n",
      "0   25           Private                7  <=50K  capital-gain               0\n",
      "1   38           Private                9  <=50K  capital-gain               0\n",
      "2   28         Local-gov               12   >50K  capital-gain               0\n",
      "3   44           Private               10   >50K  capital-gain            7688\n",
      "4   18                 ?               10  <=50K  capital-gain               0\n",
      "5   34           Private                6  <=50K  capital-gain               0\n",
      "6   29                 ?                9  <=50K  capital-gain               0\n",
      "7   63  Self-emp-not-inc               15   >50K  capital-gain            3103\n",
      "8   24           Private               10  <=50K  capital-gain               0\n",
      "9   55           Private                4  <=50K  capital-gain               0\n"
     ]
    }
   ],
   "source": [
    "# Unpivot capital-gain and capital-loss\n",
    "df_q14 = df.melt(\n",
    "    id_vars=[\"age\", \"workclass\", \"educational-num\", \"income\"],\n",
    "    value_vars=[\"capital-gain\", \"capital-loss\"],\n",
    "    var_name=\"Capital_Type\",\n",
    "    value_name=\"Capital_Amount\"\n",
    ")\n",
    "\n",
    "print(df_q14.head(10))\n"
   ]
  },
  {
   "cell_type": "code",
   "execution_count": 6,
   "id": "7e8b4d23-9502-49ab-a0fb-9b0fdbd548fb",
   "metadata": {},
   "outputs": [
    {
     "name": "stdout",
     "output_type": "stream",
     "text": [
      "Columns after Q13:\n",
      " Index(['age', 'workclass', 'fnlwgt', 'educational-num', 'marital-status',\n",
      "       'occupation', 'relationship', 'race', 'gender', 'capital-gain',\n",
      "       'capital-loss', 'hours-per-week', 'native-country', 'income'],\n",
      "      dtype='object')\n",
      "\n",
      "Unpivoted Data (Q14):\n",
      "   age         workclass  educational-num income  Capital_Type  Capital_Amount\n",
      "0   25           Private                7  <=50K  capital-gain               0\n",
      "1   38           Private                9  <=50K  capital-gain               0\n",
      "2   28         Local-gov               12   >50K  capital-gain               0\n",
      "3   44           Private               10   >50K  capital-gain            7688\n",
      "4   18                 ?               10  <=50K  capital-gain               0\n",
      "5   34           Private                6  <=50K  capital-gain               0\n",
      "6   29                 ?                9  <=50K  capital-gain               0\n",
      "7   63  Self-emp-not-inc               15   >50K  capital-gain            3103\n",
      "8   24           Private               10  <=50K  capital-gain               0\n",
      "9   55           Private                4  <=50K  capital-gain               0\n",
      "\n",
      "No train/test files found → skipping Q15 merge example.\n"
     ]
    }
   ],
   "source": [
    "import pandas as pd\n",
    "\n",
    "# ----------------------------\n",
    "# Load dataset\n",
    "# ----------------------------\n",
    "df = pd.read_csv(\"C:\\\\Users\\\\Gateway\\\\Downloads\\\\adult.csv\")\n",
    "if \"education\" in df.columns:\n",
    "    df = df.drop(columns=[\"education\"])\n",
    "print(\"Columns after Q13:\\n\", df.columns)\n",
    "\n",
    "if \"capital-gain\" in df.columns and \"capital-loss\" in df.columns:\n",
    "    df_melted = df.melt(\n",
    "        id_vars=[\"age\", \"workclass\", \"educational-num\", \"income\"],\n",
    "        value_vars=[\"capital-gain\", \"capital-loss\"],\n",
    "        var_name=\"Capital_Type\",\n",
    "        value_name=\"Capital_Amount\"\n",
    "    )\n",
    "    print(\"\\nUnpivoted Data (Q14):\")\n",
    "    print(df_melted.head(10))\n",
    "\n",
    "try:\n",
    "    df_train = pd.read_csv(\"C:\\\\Users\\\\Gateway\\\\Downloads\\\\adult_train.csv\")\n",
    "    df_test = pd.read_csv(\"C:\\\\Users\\\\Gateway\\\\Downloads\\\\adult_test.csv\")\n",
    "\n",
    "    # Append = combine rows\n",
    "    df_combined = pd.concat([df_train, df_test], ignore_index=True)\n",
    "    print(\"\\nCombined Dataset Shape (Q15):\", df_combined.shape)\n",
    "\n",
    "except FileNotFoundError:\n",
    "    print(\"\\nNo train/test files found → skipping Q15 merge example.\")\n"
   ]
  },
  {
   "cell_type": "markdown",
   "id": "396111f1-bf21-4bb1-b747-75d33cbb5222",
   "metadata": {},
   "source": [
    "# Data Visualization"
   ]
  },
  {
   "cell_type": "code",
   "execution_count": 8,
   "id": "69c97d45-e9ca-451f-be12-ebc8c9b8412e",
   "metadata": {},
   "outputs": [
    {
     "name": "stdout",
     "output_type": "stream",
     "text": [
      "Age_Bins\n",
      "0-9          0\n",
      "10-19     3623\n",
      "20-29    12170\n",
      "30-39    12838\n",
      "40-49    10403\n",
      "50-59     6202\n",
      "60-69     2738\n",
      "70-79      720\n",
      "80-89      148\n",
      "Name: count, dtype: int64\n"
     ]
    },
    {
     "data": {
      "image/png": "[encoded data removed]",
      "text/plain": [
       "<Figure size 1000x600 with 1 Axes>"
      ]
     },
     "metadata": {},
     "output_type": "display_data"
    }
   ],
   "source": [
    "import pandas as pd\n",
    "import matplotlib.pyplot as plt\n",
    "\n",
    "# Example dataset (replace with your own CSV)\n",
    "df = pd.read_csv(\"C:\\\\Users\\\\Gateway\\\\Downloads\\\\adult.csv\")   \n",
    "\n",
    "# Create 10-year bins\n",
    "bins = range(0, df['age'].max() + 10, 10)   # 0–9, 10–19, ...\n",
    "labels = [f\"{i}-{i+9}\" for i in bins[:-1]]\n",
    "\n",
    "df['Age_Bins'] = pd.cut(df['age'], bins=bins, labels=labels, right=True)\n",
    "\n",
    "# Show frequency table\n",
    "print(df['Age_Bins'].value_counts().sort_index())\n",
    "\n",
    "# Plot histogram (using the bins)\n",
    "plt.figure(figsize=(10,6))\n",
    "df['Age_Bins'].value_counts().sort_index().plot(kind='bar', color='skyblue', edgecolor='black')\n",
    "plt.title(\"Age Distribution (10-year bins)\")\n",
    "plt.xlabel(\"Age Groups\")\n",
    "plt.ylabel(\"Count\")\n",
    "plt.xticks(rotation=45)\n",
    "plt.show()"
   ]
  },
  {
   "cell_type": "code",
   "execution_count": null,
   "id": "7162f06f-8392-4c89-acb2-1f929fd4d5f5",
   "metadata": {},
   "outputs": [],
   "source": []
  }
 ],
 "metadata": {
  "kernelspec": {
   "display_name": "Python 3 (ipykernel)",
   "language": "python",
   "name": "python3"
  },
  "language_info": {
   "codemirror_mode": {
    "name": "ipython",
    "version": 3
   },
   "file_extension": ".py",
   "mimetype": "text/x-python",
   "name": "python",
   "nbconvert_exporter": "python",
   "pygments_lexer": "ipython3",
   "version": "3.13.5"
  }
 },
 "nbformat": 4,
 "nbformat_minor": 5
}
