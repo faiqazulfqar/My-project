{
 "cells": [
  {
   "cell_type": "code",
   "execution_count": 3,
   "id": "bee7245b-0bae-4f80-822a-8f67e931c11a",
   "metadata": {},
   "outputs": [
    {
     "name": "stdout",
     "output_type": "stream",
     "text": [
      "Requirement already satisfied: numpy in d:\\anaconda\\lib\\site-packages (2.1.3)\n",
      "Note: you may need to restart the kernel to use updated packages.\n"
     ]
    }
   ],
   "source": [
    "pip install numpy"
   ]
  },
  {
   "cell_type": "markdown",
   "id": "021f4567-f651-4a26-8a0f-677380518143",
   "metadata": {},
   "source": [
    "# IMPORT"
   ]
  },
  {
   "cell_type": "code",
   "execution_count": 5,
   "id": "3469808e-05c8-44d0-af7f-ae0023a3f9c3",
   "metadata": {},
   "outputs": [],
   "source": [
    "import numpy as np"
   ]
  },
  {
   "cell_type": "code",
   "execution_count": 6,
   "id": "d706a905-381f-49b4-bd89-a393c499a840",
   "metadata": {},
   "outputs": [
    {
     "name": "stdout",
     "output_type": "stream",
     "text": [
      "2.1.3\n"
     ]
    }
   ],
   "source": [
    "print(np.__version__)"
   ]
  },
  {
   "cell_type": "markdown",
   "id": "7249a0a8-7a6c-4084-ab6e-bde11d18ffc7",
   "metadata": {},
   "source": [
    "# Create Array"
   ]
  },
  {
   "cell_type": "code",
   "execution_count": 3,
   "id": "11104b6a-283f-4bc2-abd8-4a96b1b71620",
   "metadata": {},
   "outputs": [
    {
     "name": "stdout",
     "output_type": "stream",
     "text": [
      "Array: [1 2 3 4 5]\n",
      "Type: <class 'numpy.ndarray'>\n"
     ]
    }
   ],
   "source": [
    "import numpy as np\n",
    "\n",
    "arr = np.array([1, 2, 3, 4, 5])\n",
    "print(\"Array:\", arr)\n",
    "print(\"Type:\", type(arr))\n"
   ]
  },
  {
   "cell_type": "markdown",
   "id": "e7259705-ea3b-404f-8337-7a81cce77604",
   "metadata": {},
   "source": [
    "# Multi-Dimensional Array"
   ]
  },
  {
   "cell_type": "code",
   "execution_count": 4,
   "id": "85f25f41-46da-4565-a187-a702f6242bf1",
   "metadata": {},
   "outputs": [
    {
     "name": "stdout",
     "output_type": "stream",
     "text": [
      "2D Array:\n",
      " [[1 2 3]\n",
      " [4 5 6]]\n"
     ]
    }
   ],
   "source": [
    "arr2 = np.array([[1, 2, 3], [4, 5, 6]])\n",
    "print(\"2D Array:\", arr2)\n"
   ]
  },
  {
   "cell_type": "markdown",
   "id": "9af46028-cafd-4448-a5e4-53c4f5d96929",
   "metadata": {},
   "source": [
    "# Useful Array Functions"
   ]
  },
  {
   "cell_type": "code",
   "execution_count": 5,
   "id": "0adafd71-2b5b-43db-abc7-002670ad4c92",
   "metadata": {},
   "outputs": [
    {
     "name": "stdout",
     "output_type": "stream",
     "text": [
      "Sum: 15\n",
      "Mean: 3.0\n",
      "Max: 5\n",
      "Min: 1\n"
     ]
    }
   ],
   "source": [
    "print(\"Sum:\", arr.sum())\n",
    "print(\"Mean:\", arr.mean())\n",
    "print(\"Max:\", arr.max())\n",
    "print(\"Min:\", arr.min())\n"
   ]
  },
  {
   "cell_type": "markdown",
   "id": "ab33a319-906f-466e-93a2-d0717140207d",
   "metadata": {},
   "source": [
    "# Range and Zeros"
   ]
  },
  {
   "cell_type": "code",
   "execution_count": 6,
   "id": "68354094-9e33-4040-a865-760f6717bc4d",
   "metadata": {},
   "outputs": [
    {
     "name": "stdout",
     "output_type": "stream",
     "text": [
      "Range Array: [1 2 3 4 5 6 7 8 9]\n",
      "Zeros Array: [[0. 0. 0.]\n",
      " [0. 0. 0.]]\n"
     ]
    }
   ],
   "source": [
    "print(\"Range Array:\", np.arange(1, 10))   \n",
    "print(\"Zeros Array:\", np.zeros((2, 3)))  \n"
   ]
  },
  {
   "cell_type": "markdown",
   "id": "d1e7196e-7a52-4d2d-880a-761d286c441c",
   "metadata": {},
   "source": [
    "# Random Arrays "
   ]
  },
  {
   "cell_type": "code",
   "execution_count": 7,
   "id": "8842ec0e-fd87-41a6-8a29-fcd207747a86",
   "metadata": {},
   "outputs": [
    {
     "name": "stdout",
     "output_type": "stream",
     "text": [
      "Random Array: [[1 1 9]\n",
      " [8 4 7]]\n"
     ]
    }
   ],
   "source": [
    "print(\"Random Array:\", np.random.randint(1, 10, size=(2, 3)))\n"
   ]
  },
  {
   "cell_type": "markdown",
   "id": "0427d2b0-6a05-4eb2-afce-c9941c270a6b",
   "metadata": {},
   "source": [
    "# np.ones"
   ]
  },
  {
   "cell_type": "code",
   "execution_count": 9,
   "id": "e27fc198-d9c5-405b-9ace-e29fe7e1fb52",
   "metadata": {},
   "outputs": [
    {
     "name": "stdout",
     "output_type": "stream",
     "text": [
      "np.ones: [[1. 1. 1.]\n",
      " [1. 1. 1.]]\n"
     ]
    }
   ],
   "source": [
    "print(\"np.ones:\", np.ones((2, 3)))"
   ]
  },
  {
   "cell_type": "markdown",
   "id": "9eff756a-2289-43e3-ab27-cb35a486722a",
   "metadata": {},
   "source": [
    "# np.zeros"
   ]
  },
  {
   "cell_type": "code",
   "execution_count": 10,
   "id": "c4bb6fc8-6db9-43fa-a38c-e41287f5ffb7",
   "metadata": {},
   "outputs": [
    {
     "name": "stdout",
     "output_type": "stream",
     "text": [
      "np.zeros: [0. 0. 0. 0. 0.]\n"
     ]
    }
   ],
   "source": [
    "print(\"np.zeros:\", np.zeros((5)))"
   ]
  },
  {
   "cell_type": "code",
   "execution_count": null,
   "id": "55be838b-c693-44f6-9456-89968f6347fa",
   "metadata": {},
   "outputs": [],
   "source": [
    "arr3 = np.arange(1, 7)   \n",
    "print(\"Original:\", arr3)\n",
    "print(\"Reshaped 2x3:\", arr3.reshape(2, 3))\n"
   ]
  },
  {
   "cell_type": "markdown",
   "id": "30e25968-06b3-4bed-9b6b-a9810b5678c8",
   "metadata": {},
   "source": [
    "# Array operations"
   ]
  },
  {
   "cell_type": "code",
   "execution_count": 7,
   "id": "3ec958f2-646e-4f39-bc33-7a97cebefbb0",
   "metadata": {},
   "outputs": [
    {
     "name": "stdout",
     "output_type": "stream",
     "text": [
      "Add 5: [15 25 35]\n",
      "Multiply 2: [20 40 60]\n",
      "Array + Array: [11 22 33]\n",
      "Dot Product: 40\n"
     ]
    }
   ],
   "source": [
    "nums = np.array([10, 20, 30])\n",
    "\n",
    "print(\"Add 5:\", nums + 5)\n",
    "print(\"Multiply 2:\", nums * 2)\n",
    "print(\"Array + Array:\", nums + np.array([1, 2, 3]))\n",
    "print(\"Dot Product:\", nums.dot(np.array([1, 0, 1])))\n"
   ]
  },
  {
   "cell_type": "markdown",
   "id": "500947b3-96f6-4747-931d-6bacbdb8bfd1",
   "metadata": {},
   "source": [
    "# Indexing and slicing"
   ]
  },
  {
   "cell_type": "code",
   "execution_count": 8,
   "id": "c9e23a5a-184c-43cd-b464-1fbbabfb0f95",
   "metadata": {},
   "outputs": [
    {
     "name": "stdout",
     "output_type": "stream",
     "text": [
      "First element: 10\n",
      "Last element: 30\n",
      "Slice 1:3: [20 30]\n",
      "Every 2nd element: [10 30]\n"
     ]
    }
   ],
   "source": [
    "print(\"First element:\", nums[0])\n",
    "print(\"Last element:\", nums[-1])\n",
    "print(\"Slice 1:3:\", nums[1:3])\n",
    "print(\"Every 2nd element:\", nums[::2])"
   ]
  },
  {
   "cell_type": "markdown",
   "id": "22585c6a-f799-4fdc-a22d-93a0dcd6aa28",
   "metadata": {},
   "source": [
    "# sorting and unique"
   ]
  },
  {
   "cell_type": "code",
   "execution_count": 10,
   "id": "cc699df3-1b49-4f16-b7cd-ee0cdd15029c",
   "metadata": {},
   "outputs": [
    {
     "name": "stdout",
     "output_type": "stream",
     "text": [
      "Sorted: [1 1 2 2 3 3 4]\n",
      "Unique: [1 2 3 4]\n"
     ]
    }
   ],
   "source": [
    "arr4 = np.array([3, 1, 2, 3, 4, 2, 1])\n",
    "print(\"Sorted:\", np.sort(arr4))\n",
    "print(\"Unique:\", np.unique(arr4))"
   ]
  },
  {
   "cell_type": "markdown",
   "id": "9764e97b-28c2-435f-9fb9-24fac969a1c1",
   "metadata": {},
   "source": [
    "# Boolean"
   ]
  },
  {
   "cell_type": "code",
   "execution_count": 11,
   "id": "38085c25-8fd1-45e8-9772-7cb5720c0683",
   "metadata": {},
   "outputs": [
    {
     "name": "stdout",
     "output_type": "stream",
     "text": [
      "Marks > 50: [67 89 55]\n",
      "Indices where > 50: (array([1, 2, 4]),)\n"
     ]
    }
   ],
   "source": [
    "marks = np.array([45, 67, 89, 30, 55])\n",
    "print(\"Marks > 50:\", marks[marks > 50])\n",
    "print(\"Indices where > 50:\", np.where(marks > 50))"
   ]
  },
  {
   "cell_type": "markdown",
   "id": "1c615d6e-cbc0-4127-b526-115370016c0b",
   "metadata": {},
   "source": [
    "# 3 Dimensional Array"
   ]
  },
  {
   "cell_type": "code",
   "execution_count": 15,
   "id": "0cfc7712-28e2-4811-80bb-107a39c6ca6b",
   "metadata": {},
   "outputs": [
    {
     "name": "stdout",
     "output_type": "stream",
     "text": [
      "3D array: [[[12 46 23]\n",
      "  [34 75 39]\n",
      "  [34 57 15]]]\n"
     ]
    }
   ],
   "source": [
    "arr3 = np.array([[[12,46,23] , [34,75,39] , [34,57,15]]])\n",
    "print(\"3D array:\", arr3)"
   ]
  },
  {
   "cell_type": "markdown",
   "id": "47ddf83e-d8a9-4bae-9717-139542740d50",
   "metadata": {},
   "source": [
    "# Matrix"
   ]
  },
  {
   "cell_type": "code",
   "execution_count": 16,
   "id": "143db6db-6cf9-4f3e-84c8-5823d06b2114",
   "metadata": {},
   "outputs": [
    {
     "name": "stdout",
     "output_type": "stream",
     "text": [
      "[[1 2 3]\n",
      " [4 5 6]\n",
      " [7 8 9]]\n"
     ]
    }
   ],
   "source": [
    "import numpy as np\n",
    "\n",
    "mat = np.array([[1,2,3],\n",
    "                [4,5,6],\n",
    "                [7,8,9]])\n",
    "print(mat)\n"
   ]
  },
  {
   "cell_type": "markdown",
   "id": "a02aa5a8-ecc2-40ee-bec9-17c05aa56933",
   "metadata": {},
   "source": [
    "# Add and subtract"
   ]
  },
  {
   "cell_type": "code",
   "execution_count": 17,
   "id": "63d34e75-302b-40ba-a317-e00af3aa8704",
   "metadata": {},
   "outputs": [
    {
     "name": "stdout",
     "output_type": "stream",
     "text": [
      "[[10 10 10]\n",
      " [10 10 10]\n",
      " [10 10 10]]\n",
      "[[-8 -6 -4]\n",
      " [-2  0  2]\n",
      " [ 4  6  8]]\n"
     ]
    }
   ],
   "source": [
    "mat2 = np.array([[9,8,7],\n",
    "                 [6,5,4],\n",
    "                 [3,2,1]])\n",
    "print(mat + mat2)   \n",
    "print(mat - mat2)   \n"
   ]
  },
  {
   "cell_type": "markdown",
   "id": "8d5f60db-7fc4-432c-9a71-9b6aef0153ae",
   "metadata": {},
   "source": [
    "# Reshape(array change in matrix)"
   ]
  },
  {
   "cell_type": "code",
   "execution_count": 18,
   "id": "37e98f9d-d59d-4cc8-8983-3befd476fcdf",
   "metadata": {},
   "outputs": [
    {
     "name": "stdout",
     "output_type": "stream",
     "text": [
      "[[1 2 3]\n",
      " [4 5 6]]\n"
     ]
    }
   ],
   "source": [
    "arr = np.arange(1,7)   \n",
    "print(arr.reshape(2,3))\n"
   ]
  },
  {
   "cell_type": "markdown",
   "id": "d6217f71-6d84-4951-865b-802faf739d5b",
   "metadata": {},
   "source": [
    "# Identity Matrix"
   ]
  },
  {
   "cell_type": "code",
   "execution_count": 19,
   "id": "8069b651-c709-45d3-99ee-f954d5a566b0",
   "metadata": {},
   "outputs": [
    {
     "name": "stdout",
     "output_type": "stream",
     "text": [
      "[[1. 0. 0.]\n",
      " [0. 1. 0.]\n",
      " [0. 0. 1.]]\n"
     ]
    }
   ],
   "source": [
    "print(np.eye(3))"
   ]
  },
  {
   "cell_type": "markdown",
   "id": "c6eda579-a128-48d8-88fe-db700af831c8",
   "metadata": {},
   "source": [
    "# Convert 2D to 1D"
   ]
  },
  {
   "cell_type": "code",
   "execution_count": 2,
   "id": "f65c70dd-5d0a-441a-94b4-8670894ca067",
   "metadata": {},
   "outputs": [
    {
     "name": "stdout",
     "output_type": "stream",
     "text": [
      "Original 2D Matrix:\n",
      "[[1 2 3]\n",
      " [4 5 6]\n",
      " [7 8 9]]\n",
      "\n",
      "Converted 1D Array:\n",
      "[1 2 3 4 5 6 7 8 9]\n"
     ]
    }
   ],
   "source": [
    "import numpy as np\n",
    "\n",
    "# 2D matrix\n",
    "mat = np.array([[1, 2, 3],\n",
    "                [4, 5, 6],\n",
    "                [7, 8, 9]])\n",
    "\n",
    "print(\"Original 2D Matrix:\")\n",
    "print(mat)\n",
    "\n",
    "# Convert to 1D\n",
    "one_d = mat.flatten()\n",
    "print(\"\\nConverted 1D Array:\")\n",
    "print(one_d)\n"
   ]
  },
  {
   "cell_type": "code",
   "execution_count": 1,
   "id": "dd256082-9722-4ea4-bddb-1f5e00e1496d",
   "metadata": {},
   "outputs": [],
   "source": [
    "import pandas as pd"
   ]
  },
  {
   "cell_type": "code",
   "execution_count": 3,
   "id": "f32d91a8-9c1d-48c5-bf67-e0e5d5e04df6",
   "metadata": {},
   "outputs": [],
   "source": [
    "df = pd.read_csv(\"C:\\\\Users\\\\Gateway\\\\Desktop\\\\seattle-weather.csv\")"
   ]
  },
  {
   "cell_type": "code",
   "execution_count": 4,
   "id": "c8fa6f30-f733-4640-b589-3b2e180ee22b",
   "metadata": {},
   "outputs": [
    {
     "data": {
      "text/html": [
       "<div>\n",
       "<style scoped>\n",
       "    .dataframe tbody tr th:only-of-type {\n",
       "        vertical-align: middle;\n",
       "    }\n",
       "\n",
       "    .dataframe tbody tr th {\n",
       "        vertical-align: top;\n",
       "    }\n",
       "\n",
       "    .dataframe thead th {\n",
       "        text-align: right;\n",
       "    }\n",
       "</style>\n",
       "<table border=\"1\" class=\"dataframe\">\n",
       "  <thead>\n",
       "    <tr style=\"text-align: right;\">\n",
       "      <th></th>\n",
       "      <th>date</th>\n",
       "      <th>precipitation</th>\n",
       "      <th>temp_max</th>\n",
       "      <th>temp_min</th>\n",
       "      <th>wind</th>\n",
       "      <th>weather</th>\n",
       "    </tr>\n",
       "  </thead>\n",
       "  <tbody>\n",
       "    <tr>\n",
       "      <th>0</th>\n",
       "      <td>1/1/2012</td>\n",
       "      <td>0.0</td>\n",
       "      <td>12.8</td>\n",
       "      <td>5.0</td>\n",
       "      <td>4.7</td>\n",
       "      <td>drizzle</td>\n",
       "    </tr>\n",
       "    <tr>\n",
       "      <th>1</th>\n",
       "      <td>1/2/2012</td>\n",
       "      <td>10.9</td>\n",
       "      <td>10.6</td>\n",
       "      <td>2.8</td>\n",
       "      <td>4.5</td>\n",
       "      <td>rain</td>\n",
       "    </tr>\n",
       "    <tr>\n",
       "      <th>2</th>\n",
       "      <td>1/3/2012</td>\n",
       "      <td>0.8</td>\n",
       "      <td>11.7</td>\n",
       "      <td>7.2</td>\n",
       "      <td>2.3</td>\n",
       "      <td>rain</td>\n",
       "    </tr>\n",
       "    <tr>\n",
       "      <th>3</th>\n",
       "      <td>1/4/2012</td>\n",
       "      <td>20.3</td>\n",
       "      <td>12.2</td>\n",
       "      <td>5.6</td>\n",
       "      <td>4.7</td>\n",
       "      <td>rain</td>\n",
       "    </tr>\n",
       "    <tr>\n",
       "      <th>4</th>\n",
       "      <td>1/5/2012</td>\n",
       "      <td>1.3</td>\n",
       "      <td>8.9</td>\n",
       "      <td>2.8</td>\n",
       "      <td>6.1</td>\n",
       "      <td>rain</td>\n",
       "    </tr>\n",
       "    <tr>\n",
       "      <th>...</th>\n",
       "      <td>...</td>\n",
       "      <td>...</td>\n",
       "      <td>...</td>\n",
       "      <td>...</td>\n",
       "      <td>...</td>\n",
       "      <td>...</td>\n",
       "    </tr>\n",
       "    <tr>\n",
       "      <th>1456</th>\n",
       "      <td>12/27/2015</td>\n",
       "      <td>8.6</td>\n",
       "      <td>4.4</td>\n",
       "      <td>1.7</td>\n",
       "      <td>2.9</td>\n",
       "      <td>rain</td>\n",
       "    </tr>\n",
       "    <tr>\n",
       "      <th>1457</th>\n",
       "      <td>12/28/2015</td>\n",
       "      <td>1.5</td>\n",
       "      <td>5.0</td>\n",
       "      <td>1.7</td>\n",
       "      <td>1.3</td>\n",
       "      <td>rain</td>\n",
       "    </tr>\n",
       "    <tr>\n",
       "      <th>1458</th>\n",
       "      <td>12/29/2015</td>\n",
       "      <td>0.0</td>\n",
       "      <td>7.2</td>\n",
       "      <td>0.6</td>\n",
       "      <td>2.6</td>\n",
       "      <td>fog</td>\n",
       "    </tr>\n",
       "    <tr>\n",
       "      <th>1459</th>\n",
       "      <td>12/30/2015</td>\n",
       "      <td>0.0</td>\n",
       "      <td>5.6</td>\n",
       "      <td>-1.0</td>\n",
       "      <td>3.4</td>\n",
       "      <td>sun</td>\n",
       "    </tr>\n",
       "    <tr>\n",
       "      <th>1460</th>\n",
       "      <td>12/31/2015</td>\n",
       "      <td>0.0</td>\n",
       "      <td>5.6</td>\n",
       "      <td>-2.1</td>\n",
       "      <td>3.5</td>\n",
       "      <td>sun</td>\n",
       "    </tr>\n",
       "  </tbody>\n",
       "</table>\n",
       "<p>1461 rows × 6 columns</p>\n",
       "</div>"
      ],
      "text/plain": [
       "            date  precipitation  temp_max  temp_min  wind  weather\n",
       "0       1/1/2012            0.0      12.8       5.0   4.7  drizzle\n",
       "1       1/2/2012           10.9      10.6       2.8   4.5     rain\n",
       "2       1/3/2012            0.8      11.7       7.2   2.3     rain\n",
       "3       1/4/2012           20.3      12.2       5.6   4.7     rain\n",
       "4       1/5/2012            1.3       8.9       2.8   6.1     rain\n",
       "...          ...            ...       ...       ...   ...      ...\n",
       "1456  12/27/2015            8.6       4.4       1.7   2.9     rain\n",
       "1457  12/28/2015            1.5       5.0       1.7   1.3     rain\n",
       "1458  12/29/2015            0.0       7.2       0.6   2.6      fog\n",
       "1459  12/30/2015            0.0       5.6      -1.0   3.4      sun\n",
       "1460  12/31/2015            0.0       5.6      -2.1   3.5      sun\n",
       "\n",
       "[1461 rows x 6 columns]"
      ]
     },
     "execution_count": 4,
     "metadata": {},
     "output_type": "execute_result"
    }
   ],
   "source": [
    "df"
   ]
  },
  {
   "cell_type": "code",
   "execution_count": null,
   "id": "dd63c9d5-0e41-46aa-9b1c-d3323b1777a8",
   "metadata": {},
   "outputs": [],
   "source": []
  }
 ],
 "metadata": {
  "kernelspec": {
   "display_name": "Python 3 (ipykernel)",
   "language": "python",
   "name": "python3"
  },
  "language_info": {
   "codemirror_mode": {
    "name": "ipython",
    "version": 3
   },
   "file_extension": ".py",
   "mimetype": "text/x-python",
   "name": "python",
   "nbconvert_exporter": "python",
   "pygments_lexer": "ipython3",
   "version": "3.13.5"
  }
 },
 "nbformat": 4,
 "nbformat_minor": 5
}
