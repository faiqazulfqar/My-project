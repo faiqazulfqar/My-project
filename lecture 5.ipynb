{
 "cells": [
  {
   "cell_type": "code",
   "execution_count": 7,
   "id": "a470af5e-3272-4549-8861-c7eebef42cc9",
   "metadata": {},
   "outputs": [
    {
     "name": "stdout",
     "output_type": "stream",
     "text": [
      "adding new student in database\n",
      "faiqa\n"
     ]
    }
   ],
   "source": [
    "class student:\n",
    "   def __init__ (self,fullname):\n",
    "    self.name = fullname\n",
    "    print(\"adding new student in database\")\n",
    "s1 = student(\"faiqa\")\n",
    "print (s1.name)"
   ]
  },
  {
   "cell_type": "code",
   "execution_count": 8,
   "id": "33d89619-ee23-4ab8-bdf7-4d6972b599f3",
   "metadata": {},
   "outputs": [
    {
     "name": "stdout",
     "output_type": "stream",
     "text": [
      "Name: Ali\n",
      "Age: 22\n",
      "Student ID: S456\n",
      "Roll No: 30\n",
      "Marks: 92\n"
     ]
    }
   ],
   "source": [
    "class Student:\n",
    "    def set_data(self, name, age, student_id, roll_no, marks):\n",
    "        self.name = name\n",
    "        self.age = age\n",
    "        self.student_id = student_id\n",
    "        self.roll_no = roll_no\n",
    "        self.marks = marks\n",
    "\n",
    "    def display_info(self):\n",
    "        print(f\"Name: {self.name}\")\n",
    "        print(f\"Age: {self.age}\")\n",
    "        print(f\"Student ID: {self.student_id}\")\n",
    "        print(f\"Roll No: {self.roll_no}\")\n",
    "        print(f\"Marks: {self.marks}\")\n",
    "\n",
    "\n",
    "student2 = Student()\n",
    "student2.set_data(\"Ali\", 22, \"S456\", 30, 92)\n",
    "\n",
    "student2.display_info()"
   ]
  },
  {
   "cell_type": "code",
   "execution_count": 10,
   "id": "fc000778-7740-4984-b611-3b338500a3c0",
   "metadata": {},
   "outputs": [
    {
     "name": "stdout",
     "output_type": "stream",
     "text": [
      "Name: FAIQA\n",
      "Age: 21\n",
      "Student ID: S123\n",
      "Roll No: 45\n",
      "Marks: 88\n"
     ]
    }
   ],
   "source": [
    "class Student:\n",
    "    def __init__(self, name, age, student_id, roll_no, marks):\n",
    "        self.name = name\n",
    "        self.age = age\n",
    "        self.student_id = student_id\n",
    "        self.roll_no = roll_no\n",
    "        self.marks = marks\n",
    "\n",
    "    \n",
    "    def display_info(self):\n",
    "        print(f\"Name: {self.name}\")\n",
    "        print(f\"Age: {self.age}\")\n",
    "        print(f\"Student ID: {self.student_id}\")\n",
    "        print(f\"Roll No: {self.roll_no}\")\n",
    "        print(f\"Marks: {self.marks}\")\n",
    "\n",
    "\n",
    "student1 = Student(\"FAIQA\", 21, \"S123\", 45, 88)\n",
    "\n",
    "student1.display_info()"
   ]
  },
  {
   "cell_type": "code",
   "execution_count": 15,
   "id": "1ddf5df7-518a-459a-ae5a-12f10843a80e",
   "metadata": {},
   "outputs": [
    {
     "name": "stdout",
     "output_type": "stream",
     "text": [
      "Name: FAIQA\n",
      "Age: 21\n",
      "Student ID: S123\n",
      "Roll No: 45\n",
      "Marks: 88\n",
      "private: This is private data\n"
     ]
    }
   ],
   "source": [
    "class Student:\n",
    "    def __init__(self, name, age, student_id, roll_no, marks):\n",
    "        self.name = name\n",
    "        self.age = age\n",
    "        self.student_id = student_id\n",
    "        self.roll_no = roll_no\n",
    "        self.marks = marks\n",
    "\n",
    "        self.__private__ = \"This is private data\"\n",
    "\n",
    "    def display_info(self):\n",
    "        print(f\"Name: {self.name}\")\n",
    "        print(f\"Age: {self.age}\")\n",
    "        print(f\"Student ID: {self.student_id}\")\n",
    "        print(f\"Roll No: {self.roll_no}\")\n",
    "        print(f\"Marks: {self.marks}\")\n",
    "        \n",
    "    def show_private(self):\n",
    "        print(f\"private: {self.__private__}\")\n",
    "\n",
    "\n",
    "student1 = Student(\"FAIQA\", 21, \"S123\", 45, 88)\n",
    "\n",
    "student1.display_info()\n",
    "\n",
    "student1.show_private()\n",
    "\n",
    "\n"
   ]
  },
  {
   "cell_type": "code",
   "execution_count": 21,
   "id": "2f3df329-e8c7-48ab-b84c-28288ed6ae59",
   "metadata": {},
   "outputs": [
    {
     "name": "stdout",
     "output_type": "stream",
     "text": [
      "Name: Faiqa\n",
      "Age: 21\n",
      "private: private data\n"
     ]
    }
   ],
   "source": [
    "class student:\n",
    "    def __init__(self,name,age):\n",
    "        self.name = name\n",
    "        self.age = age \n",
    "\n",
    "        self. __private__ = \"private data\"\n",
    "    def display_info(self):\n",
    "        print(f\"Name: {self.name}\")\n",
    "        print(f\"Age: {self.age}\")\n",
    "    def show_private(self):\n",
    "        print(f\"private: {self.__private__}\")\n",
    "\n",
    "\n",
    "student1 =student(\"Faiqa\",21)\n",
    "               \n",
    "student1.display_info()\n",
    "\n",
    "student1.show_private()\n",
    "\n",
    "        \n",
    "    \n"
   ]
  },
  {
   "cell_type": "code",
   "execution_count": 23,
   "id": "3b12b499-3518-49e3-ab16-464ca1031854",
   "metadata": {},
   "outputs": [
    {
     "name": "stdout",
     "output_type": "stream",
     "text": [
      "Name: Faiqa\n",
      "Age: 21\n",
      "Degree: BS Computer Science\n"
     ]
    }
   ],
   "source": [
    "class Student:\n",
    "    def __init__(self, name, age):\n",
    "        self.name = name\n",
    "        self.age = age \n",
    "\n",
    "    def display_info(self):\n",
    "        print(f\"Name: {self.name}\")\n",
    "        print(f\"Age: {self.age}\")\n",
    "\n",
    "\n",
    "class GraduateStudent(Student):\n",
    "    def __init__(self, name, age, degree):\n",
    "        super().__init__(name, age)\n",
    "        self.degree = degree\n",
    "\n",
    "    def display_graduate_info(self):\n",
    "        self.display_info()\n",
    "        print(f\"Degree: {self.degree}\")\n",
    "\n",
    "\n",
    "grad1 = GraduateStudent(\"Faiqa\", 21, \"BS Computer Science\")\n",
    "grad1.display_graduate_info()\n"
   ]
  },
  {
   "cell_type": "code",
   "execution_count": null,
   "id": "0ae0a191-5bf0-4113-a1a7-801a6f83125c",
   "metadata": {},
   "outputs": [],
   "source": [
    "class student:\n",
    "    "
   ]
  }
 ],
 "metadata": {
  "kernelspec": {
   "display_name": "Python 3 (ipykernel)",
   "language": "python",
   "name": "python3"
  },
  "language_info": {
   "codemirror_mode": {
    "name": "ipython",
    "version": 3
   },
   "file_extension": ".py",
   "mimetype": "text/x-python",
   "name": "python",
   "nbconvert_exporter": "python",
   "pygments_lexer": "ipython3",
   "version": "3.13.5"
  }
 },
 "nbformat": 4,
 "nbformat_minor": 5
}
