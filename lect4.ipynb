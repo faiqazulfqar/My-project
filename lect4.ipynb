{
 "cells": [
  {
   "cell_type": "code",
   "execution_count": 22,
   "id": "e94a0757-5dfc-45a6-a58a-936257dddbe4",
   "metadata": {},
   "outputs": [
    {
     "name": "stdin",
     "output_type": "stream",
     "text": [
      "Enter a number:  59\n",
      "Enter another number:  4\n"
     ]
    },
    {
     "name": "stdout",
     "output_type": "stream",
     "text": [
      "Result: 14.75\n",
      "Program finished.\n"
     ]
    }
   ],
   "source": [
    "try:\n",
    "    num1 = int(input(\"Enter a number: \"))\n",
    "    num2 = int(input(\"Enter another number: \"))\n",
    "    result = num1 / num2\n",
    "    print(\"Result:\", result)\n",
    "\n",
    "except ZeroDivisionError:\n",
    "    print(\"You cannot divide by zero!\")\n",
    "\n",
    "except ValueError:\n",
    "    print(\"Please enter only numbers!\")\n",
    "\n",
    "except Exception as e:\n",
    "    print(\"An unexpected error occurred:\", e)\n",
    "\n",
    "finally:\n",
    "    print(\"Program finished.\")\n"
   ]
  },
  {
   "cell_type": "code",
   "execution_count": 2,
   "id": "4037b3eb-ab43-43e3-a194-f1fefc683815",
   "metadata": {},
   "outputs": [
    {
     "name": "stdout",
     "output_type": "stream",
     "text": [
      "not divide\n",
      "program execute\n"
     ]
    }
   ],
   "source": [
    "try:\n",
    "    num = 42/0\n",
    "except:\n",
    "    print (\"not divide\")\n",
    "finally:\n",
    "    print(\"program execute\")"
   ]
  },
  {
   "cell_type": "code",
   "execution_count": 3,
   "id": "0236a925-3b9a-4e22-8c72-049b788afc22",
   "metadata": {},
   "outputs": [
    {
     "name": "stdout",
     "output_type": "stream",
     "text": [
      "program execute\n"
     ]
    }
   ],
   "source": [
    "try:\n",
    "    num = 80/4\n",
    "except:\n",
    "    print (\"not divide\")\n",
    "finally:\n",
    "    print(\"program execute\")"
   ]
  },
  {
   "cell_type": "code",
   "execution_count": 4,
   "id": "887874b0-42ce-4646-b867-ce20138dbcc5",
   "metadata": {},
   "outputs": [
    {
     "name": "stdout",
     "output_type": "stream",
     "text": [
      "program execute\n"
     ]
    }
   ],
   "source": [
    "try:\n",
    "    num = 80/4\n",
    "except Exception as e:\n",
    "    print (e)\n",
    "finally:\n",
    "    print(\"program execute\")"
   ]
  },
  {
   "cell_type": "code",
   "execution_count": 10,
   "id": "fd1b41e6-da8e-45a3-aa71-27ddb4784748",
   "metadata": {},
   "outputs": [
    {
     "name": "stdout",
     "output_type": "stream",
     "text": [
      "Invalid number!\n"
     ]
    }
   ],
   "source": [
    "try:\n",
    "    num = int(\"abc\")   \n",
    "except ValueError:\n",
    "    print(\"Invalid number!\")\n"
   ]
  },
  {
   "cell_type": "markdown",
   "id": "82b85a19-e077-4f12-ad86-b21a830018e0",
   "metadata": {},
   "source": [
    "# type error"
   ]
  },
  {
   "cell_type": "code",
   "execution_count": 11,
   "id": "320a3a8b-a262-41c2-94e8-56fe364e4fb5",
   "metadata": {},
   "outputs": [
    {
     "name": "stdout",
     "output_type": "stream",
     "text": [
      "Cannot add string and number!\n"
     ]
    }
   ],
   "source": [
    "try:\n",
    "    result = \"10\" + 5   \n",
    "except TypeError:\n",
    "    print(\"Cannot add string and number!\")\n"
   ]
  },
  {
   "cell_type": "code",
   "execution_count": 13,
   "id": "470da5e1-e1fa-490a-8d5f-697a8fee5877",
   "metadata": {},
   "outputs": [
    {
     "name": "stdout",
     "output_type": "stream",
     "text": [
      "cant'add float and string\n"
     ]
    }
   ],
   "source": [
    "try:\n",
    "    num = \"123\" + 10.45\n",
    "except TypeError:\n",
    "    print(\"cant'add float and string\")"
   ]
  },
  {
   "cell_type": "markdown",
   "id": "98b80adc-e44d-4bb4-b5b5-f784ccbd5733",
   "metadata": {},
   "source": [
    "# index eror"
   ]
  },
  {
   "cell_type": "code",
   "execution_count": 14,
   "id": "3037736a-4e60-4f7b-b2b0-22fdbca6bef5",
   "metadata": {},
   "outputs": [
    {
     "name": "stdout",
     "output_type": "stream",
     "text": [
      "List index out of range!\n"
     ]
    }
   ],
   "source": [
    "try:\n",
    "    my_list = [1, 2, 3]\n",
    "    print(my_list[5])   \n",
    "except IndexError:\n",
    "    print(\"List index out of range!\")\n"
   ]
  },
  {
   "cell_type": "code",
   "execution_count": 15,
   "id": "25f21dc7-9d54-4a55-b714-4ab8f894d6ee",
   "metadata": {},
   "outputs": [
    {
     "name": "stdout",
     "output_type": "stream",
     "text": [
      "list index oor!\n"
     ]
    }
   ],
   "source": [
    "try:\n",
    "    my_list = [1,10,2,8,9]\n",
    "    print(my_list[6])\n",
    "except IndexError:\n",
    "    print(\"list index oor!\")\n"
   ]
  },
  {
   "cell_type": "markdown",
   "id": "23cc0057-a181-45f3-83bf-cb2a3c20dfdb",
   "metadata": {},
   "source": [
    "# key error"
   ]
  },
  {
   "cell_type": "code",
   "execution_count": 16,
   "id": "83bf68ce-610d-45de-bb07-f290cd7a2a2c",
   "metadata": {},
   "outputs": [
    {
     "name": "stdout",
     "output_type": "stream",
     "text": [
      "Key not found in dictionary!\n"
     ]
    }
   ],
   "source": [
    "try:\n",
    "    my_dict = {\"a\": 1}\n",
    "    print(my_dict[\"b\"])\n",
    "except KeyError:\n",
    "    print(\"Key not found in dictionary!\")\n"
   ]
  },
  {
   "cell_type": "markdown",
   "id": "3ce38450-1c4c-4ddb-8d17-3af6d505571d",
   "metadata": {},
   "source": [
    "# value error"
   ]
  },
  {
   "cell_type": "code",
   "execution_count": 21,
   "id": "216d693e-8658-405c-984b-2da6fed71dba",
   "metadata": {},
   "outputs": [
    {
     "name": "stdout",
     "output_type": "stream",
     "text": [
      "Invalid number!\n"
     ]
    }
   ],
   "source": [
    "try:\n",
    "    num = int(\"12,42\")  \n",
    "except ValueError:\n",
    "    print(\"Invalid number!\")\n"
   ]
  },
  {
   "cell_type": "code",
   "execution_count": 25,
   "id": "81487663-ff40-4750-a603-cff62113b51b",
   "metadata": {},
   "outputs": [
    {
     "name": "stdout",
     "output_type": "stream",
     "text": [
      "2\n"
     ]
    }
   ],
   "source": [
    "try:\n",
    "    my_dict = {\"1\": 2}\n",
    "    print(my_dict[\"1\"])\n",
    "except KeyError:\n",
    "    print(\"Key not found in dictionary!\")\n"
   ]
  },
  {
   "cell_type": "code",
   "execution_count": null,
   "id": "6ec78470-54bb-4aa8-a9f2-340d2141a8fb",
   "metadata": {},
   "outputs": [],
   "source": []
  }
 ],
 "metadata": {
  "kernelspec": {
   "display_name": "Python 3 (ipykernel)",
   "language": "python",
   "name": "python3"
  },
  "language_info": {
   "codemirror_mode": {
    "name": "ipython",
    "version": 3
   },
   "file_extension": ".py",
   "mimetype": "text/x-python",
   "name": "python",
   "nbconvert_exporter": "python",
   "pygments_lexer": "ipython3",
   "version": "3.13.5"
  }
 },
 "nbformat": 4,
 "nbformat_minor": 5
}
