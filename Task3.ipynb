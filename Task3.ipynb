{
 "cells": [
  {
   "cell_type": "code",
   "execution_count": 2,
   "id": "e18a9cdb-1936-4507-8e79-b67766b15fd6",
   "metadata": {},
   "outputs": [],
   "source": [
    "import pandas as pd"
   ]
  },
  {
   "cell_type": "code",
   "execution_count": 3,
   "id": "2b664695-91aa-4411-810f-f1e97472ca7c",
   "metadata": {},
   "outputs": [
    {
     "data": {
      "text/html": [
       "<div>\n",
       "<style scoped>\n",
       "    .dataframe tbody tr th:only-of-type {\n",
       "        vertical-align: middle;\n",
       "    }\n",
       "\n",
       "    .dataframe tbody tr th {\n",
       "        vertical-align: top;\n",
       "    }\n",
       "\n",
       "    .dataframe thead th {\n",
       "        text-align: right;\n",
       "    }\n",
       "</style>\n",
       "<table border=\"1\" class=\"dataframe\">\n",
       "  <thead>\n",
       "    <tr style=\"text-align: right;\">\n",
       "      <th></th>\n",
       "      <th>Transaction ID</th>\n",
       "      <th>Customer ID</th>\n",
       "      <th>Category</th>\n",
       "      <th>Item</th>\n",
       "      <th>Price Per Unit</th>\n",
       "      <th>Quantity</th>\n",
       "      <th>Total Spent</th>\n",
       "      <th>Payment Method</th>\n",
       "      <th>Location</th>\n",
       "      <th>Transaction Date</th>\n",
       "      <th>Discount Applied</th>\n",
       "    </tr>\n",
       "  </thead>\n",
       "  <tbody>\n",
       "    <tr>\n",
       "      <th>0</th>\n",
       "      <td>TXN_6867343</td>\n",
       "      <td>CUST_09</td>\n",
       "      <td>Patisserie</td>\n",
       "      <td>Item_10_PAT</td>\n",
       "      <td>18.5</td>\n",
       "      <td>10.0</td>\n",
       "      <td>185.0</td>\n",
       "      <td>Digital Wallet</td>\n",
       "      <td>Online</td>\n",
       "      <td>2024-04-08</td>\n",
       "      <td>True</td>\n",
       "    </tr>\n",
       "    <tr>\n",
       "      <th>1</th>\n",
       "      <td>TXN_3731986</td>\n",
       "      <td>CUST_22</td>\n",
       "      <td>Milk Products</td>\n",
       "      <td>Item_17_MILK</td>\n",
       "      <td>29.0</td>\n",
       "      <td>9.0</td>\n",
       "      <td>261.0</td>\n",
       "      <td>Digital Wallet</td>\n",
       "      <td>Online</td>\n",
       "      <td>2023-07-23</td>\n",
       "      <td>True</td>\n",
       "    </tr>\n",
       "    <tr>\n",
       "      <th>2</th>\n",
       "      <td>TXN_9303719</td>\n",
       "      <td>CUST_02</td>\n",
       "      <td>Butchers</td>\n",
       "      <td>Item_12_BUT</td>\n",
       "      <td>21.5</td>\n",
       "      <td>2.0</td>\n",
       "      <td>43.0</td>\n",
       "      <td>Credit Card</td>\n",
       "      <td>Online</td>\n",
       "      <td>2022-10-05</td>\n",
       "      <td>False</td>\n",
       "    </tr>\n",
       "    <tr>\n",
       "      <th>3</th>\n",
       "      <td>TXN_9458126</td>\n",
       "      <td>CUST_06</td>\n",
       "      <td>Beverages</td>\n",
       "      <td>Item_16_BEV</td>\n",
       "      <td>27.5</td>\n",
       "      <td>9.0</td>\n",
       "      <td>247.5</td>\n",
       "      <td>Credit Card</td>\n",
       "      <td>Online</td>\n",
       "      <td>2022-05-07</td>\n",
       "      <td>NaN</td>\n",
       "    </tr>\n",
       "    <tr>\n",
       "      <th>4</th>\n",
       "      <td>TXN_4575373</td>\n",
       "      <td>CUST_05</td>\n",
       "      <td>Food</td>\n",
       "      <td>Item_6_FOOD</td>\n",
       "      <td>12.5</td>\n",
       "      <td>7.0</td>\n",
       "      <td>87.5</td>\n",
       "      <td>Digital Wallet</td>\n",
       "      <td>Online</td>\n",
       "      <td>2022-10-02</td>\n",
       "      <td>False</td>\n",
       "    </tr>\n",
       "    <tr>\n",
       "      <th>...</th>\n",
       "      <td>...</td>\n",
       "      <td>...</td>\n",
       "      <td>...</td>\n",
       "      <td>...</td>\n",
       "      <td>...</td>\n",
       "      <td>...</td>\n",
       "      <td>...</td>\n",
       "      <td>...</td>\n",
       "      <td>...</td>\n",
       "      <td>...</td>\n",
       "      <td>...</td>\n",
       "    </tr>\n",
       "    <tr>\n",
       "      <th>12570</th>\n",
       "      <td>TXN_9347481</td>\n",
       "      <td>CUST_18</td>\n",
       "      <td>Patisserie</td>\n",
       "      <td>Item_23_PAT</td>\n",
       "      <td>38.0</td>\n",
       "      <td>4.0</td>\n",
       "      <td>152.0</td>\n",
       "      <td>Credit Card</td>\n",
       "      <td>In-store</td>\n",
       "      <td>2023-09-03</td>\n",
       "      <td>NaN</td>\n",
       "    </tr>\n",
       "    <tr>\n",
       "      <th>12571</th>\n",
       "      <td>TXN_4009414</td>\n",
       "      <td>CUST_03</td>\n",
       "      <td>Beverages</td>\n",
       "      <td>Item_2_BEV</td>\n",
       "      <td>6.5</td>\n",
       "      <td>9.0</td>\n",
       "      <td>58.5</td>\n",
       "      <td>Cash</td>\n",
       "      <td>Online</td>\n",
       "      <td>2022-08-12</td>\n",
       "      <td>False</td>\n",
       "    </tr>\n",
       "    <tr>\n",
       "      <th>12572</th>\n",
       "      <td>TXN_5306010</td>\n",
       "      <td>CUST_11</td>\n",
       "      <td>Butchers</td>\n",
       "      <td>Item_7_BUT</td>\n",
       "      <td>14.0</td>\n",
       "      <td>10.0</td>\n",
       "      <td>140.0</td>\n",
       "      <td>Cash</td>\n",
       "      <td>Online</td>\n",
       "      <td>2024-08-24</td>\n",
       "      <td>NaN</td>\n",
       "    </tr>\n",
       "    <tr>\n",
       "      <th>12573</th>\n",
       "      <td>TXN_5167298</td>\n",
       "      <td>CUST_04</td>\n",
       "      <td>Furniture</td>\n",
       "      <td>Item_7_FUR</td>\n",
       "      <td>14.0</td>\n",
       "      <td>6.0</td>\n",
       "      <td>84.0</td>\n",
       "      <td>Cash</td>\n",
       "      <td>Online</td>\n",
       "      <td>2023-12-30</td>\n",
       "      <td>True</td>\n",
       "    </tr>\n",
       "    <tr>\n",
       "      <th>12574</th>\n",
       "      <td>TXN_2407494</td>\n",
       "      <td>CUST_23</td>\n",
       "      <td>Food</td>\n",
       "      <td>Item_9_FOOD</td>\n",
       "      <td>17.0</td>\n",
       "      <td>3.0</td>\n",
       "      <td>51.0</td>\n",
       "      <td>Cash</td>\n",
       "      <td>Online</td>\n",
       "      <td>2022-08-06</td>\n",
       "      <td>NaN</td>\n",
       "    </tr>\n",
       "  </tbody>\n",
       "</table>\n",
       "<p>12575 rows × 11 columns</p>\n",
       "</div>"
      ],
      "text/plain": [
       "      Transaction ID Customer ID       Category          Item  Price Per Unit  \\\n",
       "0        TXN_6867343     CUST_09     Patisserie   Item_10_PAT            18.5   \n",
       "1        TXN_3731986     CUST_22  Milk Products  Item_17_MILK            29.0   \n",
       "2        TXN_9303719     CUST_02       Butchers   Item_12_BUT            21.5   \n",
       "3        TXN_9458126     CUST_06      Beverages   Item_16_BEV            27.5   \n",
       "4        TXN_4575373     CUST_05           Food   Item_6_FOOD            12.5   \n",
       "...              ...         ...            ...           ...             ...   \n",
       "12570    TXN_9347481     CUST_18     Patisserie   Item_23_PAT            38.0   \n",
       "12571    TXN_4009414     CUST_03      Beverages    Item_2_BEV             6.5   \n",
       "12572    TXN_5306010     CUST_11       Butchers    Item_7_BUT            14.0   \n",
       "12573    TXN_5167298     CUST_04      Furniture    Item_7_FUR            14.0   \n",
       "12574    TXN_2407494     CUST_23           Food   Item_9_FOOD            17.0   \n",
       "\n",
       "       Quantity  Total Spent  Payment Method  Location Transaction Date  \\\n",
       "0          10.0        185.0  Digital Wallet    Online       2024-04-08   \n",
       "1           9.0        261.0  Digital Wallet    Online       2023-07-23   \n",
       "2           2.0         43.0     Credit Card    Online       2022-10-05   \n",
       "3           9.0        247.5     Credit Card    Online       2022-05-07   \n",
       "4           7.0         87.5  Digital Wallet    Online       2022-10-02   \n",
       "...         ...          ...             ...       ...              ...   \n",
       "12570       4.0        152.0     Credit Card  In-store       2023-09-03   \n",
       "12571       9.0         58.5            Cash    Online       2022-08-12   \n",
       "12572      10.0        140.0            Cash    Online       2024-08-24   \n",
       "12573       6.0         84.0            Cash    Online       2023-12-30   \n",
       "12574       3.0         51.0            Cash    Online       2022-08-06   \n",
       "\n",
       "      Discount Applied  \n",
       "0                 True  \n",
       "1                 True  \n",
       "2                False  \n",
       "3                  NaN  \n",
       "4                False  \n",
       "...                ...  \n",
       "12570              NaN  \n",
       "12571            False  \n",
       "12572              NaN  \n",
       "12573             True  \n",
       "12574              NaN  \n",
       "\n",
       "[12575 rows x 11 columns]"
      ]
     },
     "execution_count": 3,
     "metadata": {},
     "output_type": "execute_result"
    }
   ],
   "source": [
    "df = pd.read_csv(\"C:\\\\Users\\\\Gateway\\\\Downloads\\\\retail_store_sales.csv\")\n",
    "df"
   ]
  },
  {
   "cell_type": "markdown",
   "id": "de89183d-b0da-4105-82a6-09c9e8f9ae92",
   "metadata": {},
   "source": [
    "# Part 1: Data Cleaning & Preparation"
   ]
  },
  {
   "cell_type": "code",
   "execution_count": 47,
   "id": "ee4e37aa-4478-4a52-a6be-922438259317",
   "metadata": {},
   "outputs": [
    {
     "name": "stdout",
     "output_type": "stream",
     "text": [
      "\n",
      " Missing values count per column:\n",
      "Transaction ID        0\n",
      "Customer ID           0\n",
      "Category              0\n",
      "Item                  0\n",
      "Price Per Unit      609\n",
      "Quantity              0\n",
      "Total Spent           0\n",
      "Payment Method        0\n",
      "Location              0\n",
      "Transaction Date      0\n",
      "Discount Applied      0\n",
      "Check_Total         609\n",
      "Mismatch              0\n",
      "Year                  0\n",
      "Month                 0\n",
      "Year-Month            0\n",
      "dtype: int64\n",
      "\n",
      " % Missing values per column:\n",
      "Transaction ID      0.00\n",
      "Customer ID         0.00\n",
      "Category            0.00\n",
      "Item                0.00\n",
      "Price Per Unit      4.84\n",
      "Quantity            0.00\n",
      "Total Spent         0.00\n",
      "Payment Method      0.00\n",
      "Location            0.00\n",
      "Transaction Date    0.00\n",
      "Discount Applied    0.00\n",
      "Check_Total         4.84\n",
      "Mismatch            0.00\n",
      "Year                0.00\n",
      "Month               0.00\n",
      "Year-Month          0.00\n",
      "dtype: float64\n"
     ]
    }
   ],
   "source": [
    "print(\"\\n Missing values count per column:\")\n",
    "print(df.isna().sum())\n",
    "\n",
    "print(\"\\n % Missing values per column:\")\n",
    "print((df.isna().mean() * 100).round(2))"
   ]
  },
  {
   "cell_type": "code",
   "execution_count": 5,
   "id": "0da21943-41f2-4393-a976-5b41ef4b2589",
   "metadata": {},
   "outputs": [
    {
     "name": "stdout",
     "output_type": "stream",
     "text": [
      "\n",
      " Cleaned DataFrame after Fixing Missing Values:\n",
      "      Transaction ID Customer ID       Category          Item  Price Per Unit  \\\n",
      "0        TXN_6867343     CUST_09     Patisserie   Item_10_PAT            18.5   \n",
      "1        TXN_3731986     CUST_22  Milk Products  Item_17_MILK            29.0   \n",
      "2        TXN_9303719     CUST_02       Butchers   Item_12_BUT            21.5   \n",
      "3        TXN_9458126     CUST_06      Beverages   Item_16_BEV            27.5   \n",
      "4        TXN_4575373     CUST_05           Food   Item_6_FOOD            12.5   \n",
      "...              ...         ...            ...           ...             ...   \n",
      "12570    TXN_9347481     CUST_18     Patisserie   Item_23_PAT            38.0   \n",
      "12571    TXN_4009414     CUST_03      Beverages    Item_2_BEV             6.5   \n",
      "12572    TXN_5306010     CUST_11       Butchers    Item_7_BUT            14.0   \n",
      "12573    TXN_5167298     CUST_04      Furniture    Item_7_FUR            14.0   \n",
      "12574    TXN_2407494     CUST_23           Food   Item_9_FOOD            17.0   \n",
      "\n",
      "       Quantity  Total Spent  Payment Method  Location Transaction Date  \\\n",
      "0          10.0        185.0  Digital Wallet    Online       2024-04-08   \n",
      "1           9.0        261.0  Digital Wallet    Online       2023-07-23   \n",
      "2           2.0         43.0     Credit Card    Online       2022-10-05   \n",
      "3           9.0        247.5     Credit Card    Online       2022-05-07   \n",
      "4           7.0         87.5  Digital Wallet    Online       2022-10-02   \n",
      "...         ...          ...             ...       ...              ...   \n",
      "12570       4.0        152.0     Credit Card  In-store       2023-09-03   \n",
      "12571       9.0         58.5            Cash    Online       2022-08-12   \n",
      "12572      10.0        140.0            Cash    Online       2024-08-24   \n",
      "12573       6.0         84.0            Cash    Online       2023-12-30   \n",
      "12574       3.0         51.0            Cash    Online       2022-08-06   \n",
      "\n",
      "       Discount Applied  \n",
      "0                  True  \n",
      "1                  True  \n",
      "2                 False  \n",
      "3                  True  \n",
      "4                 False  \n",
      "...                 ...  \n",
      "12570              True  \n",
      "12571             False  \n",
      "12572              True  \n",
      "12573              True  \n",
      "12574              True  \n",
      "\n",
      "[12575 rows x 11 columns]\n"
     ]
    },
    {
     "name": "stderr",
     "output_type": "stream",
     "text": [
      "C:\\Users\\Gateway\\AppData\\Local\\Temp\\ipykernel_12832\\407684254.py:7: FutureWarning: Downcasting object dtype arrays on .fillna, .ffill, .bfill is deprecated and will change in a future version. Call result.infer_objects(copy=False) instead. To opt-in to the future behavior, set `pd.set_option('future.no_silent_downcasting', True)`\n",
      "  df[\"Discount Applied\"] = df[\"Discount Applied\"].fillna(df[\"Discount Applied\"].mode()[0])\n"
     ]
    }
   ],
   "source": [
    "df[\"Item\"] = df[\"Item\"].fillna(\"Unknown\")\n",
    "\n",
    "df[\"Quantity\"] = df[\"Quantity\"].fillna(df[\"Quantity\"].mean())\n",
    "\n",
    "df[\"Total Spent\"] = df[\"Total Spent\"].fillna(df[\"Total Spent\"].median())\n",
    "\n",
    "df[\"Discount Applied\"] = df[\"Discount Applied\"].fillna(df[\"Discount Applied\"].mode()[0])\n",
    "\n",
    "print(\"\\n Cleaned DataFrame after Fixing Missing Values:\")\n",
    "print(df)"
   ]
  },
  {
   "cell_type": "code",
   "execution_count": 6,
   "id": "9a1f80f7-76ba-4205-a0d5-5ec503b5d977",
   "metadata": {},
   "outputs": [
    {
     "name": "stdout",
     "output_type": "stream",
     "text": [
      "Duplicate Transaction IDs: Empty DataFrame\n",
      "Columns: [Transaction ID, Customer ID, Category, Item, Price Per Unit, Quantity, Total Spent, Payment Method, Location, Transaction Date, Discount Applied]\n",
      "Index: []\n"
     ]
    }
   ],
   "source": [
    "duplicate_ids = df[df['Transaction ID'].duplicated(keep=False)]\n",
    "print(\"Duplicate Transaction IDs:\", duplicate_ids)"
   ]
  },
  {
   "cell_type": "code",
   "execution_count": 7,
   "id": "0dca37f6-f013-4f8d-b519-095ea8593825",
   "metadata": {},
   "outputs": [
    {
     "name": "stdout",
     "output_type": "stream",
     "text": [
      "Duplicate Rows: Empty DataFrame\n",
      "Columns: [Transaction ID, Customer ID, Category, Item, Price Per Unit, Quantity, Total Spent, Payment Method, Location, Transaction Date, Discount Applied]\n",
      "Index: []\n"
     ]
    }
   ],
   "source": [
    "duplicate_rows = df[df.duplicated()]\n",
    "print(\"Duplicate Rows:\", duplicate_rows)"
   ]
  },
  {
   "cell_type": "code",
   "execution_count": 8,
   "id": "6df1d2b1-1802-4c06-8113-332aab1442c5",
   "metadata": {},
   "outputs": [
    {
     "name": "stdout",
     "output_type": "stream",
     "text": [
      "Mismatched Total Spent:       Transaction ID Customer ID                       Category     Item  \\\n",
      "5        TXN_7482416     CUST_09                     Patisserie  Unknown   \n",
      "7        TXN_1372952     CUST_21                      Furniture  Unknown   \n",
      "11       TXN_5422631     CUST_09                  Milk Products  Unknown   \n",
      "15       TXN_1809665     CUST_14                      Beverages  Unknown   \n",
      "17       TXN_9634894     CUST_15                  Milk Products  Unknown   \n",
      "...              ...         ...                            ...      ...   \n",
      "12527    TXN_1069238     CUST_23                           Food  Unknown   \n",
      "12552    TXN_4823896     CUST_05                  Milk Products  Unknown   \n",
      "12556    TXN_4397672     CUST_04                      Beverages  Unknown   \n",
      "12562    TXN_7422454     CUST_07                       Butchers  Unknown   \n",
      "12564    TXN_2153066     CUST_17  Electric household essentials  Unknown   \n",
      "\n",
      "       Price Per Unit  Quantity  Total Spent  Payment Method  Location  \\\n",
      "5                 NaN  10.00000        200.0     Credit Card    Online   \n",
      "7                33.5   5.53638        108.5  Digital Wallet  In-store   \n",
      "11                NaN   8.00000         52.0  Digital Wallet  In-store   \n",
      "15               24.5   5.53638        108.5     Credit Card  In-store   \n",
      "17                NaN  10.00000        275.0  Digital Wallet    Online   \n",
      "...               ...       ...          ...             ...       ...   \n",
      "12527             5.0   5.53638        108.5  Digital Wallet  In-store   \n",
      "12552             8.0   5.53638        108.5            Cash  In-store   \n",
      "12556            41.0   5.53638        108.5     Credit Card    Online   \n",
      "12562            33.5   5.53638        108.5            Cash    Online   \n",
      "12564            29.0   5.53638        108.5  Digital Wallet  In-store   \n",
      "\n",
      "      Transaction Date  Discount Applied  Check_Total  Mismatch  \n",
      "5           2023-11-30              True          NaN      True  \n",
      "7           2024-04-02              True   185.468716      True  \n",
      "11          2025-01-12              True          NaN      True  \n",
      "15          2022-05-11              True   135.641300      True  \n",
      "17          2022-04-17              True          NaN      True  \n",
      "...                ...               ...          ...       ...  \n",
      "12527       2022-08-13             False    27.681898      True  \n",
      "12552       2022-07-21             False    44.291037      True  \n",
      "12556       2024-11-28              True   226.991563      True  \n",
      "12562       2023-04-15              True   185.468716      True  \n",
      "12564       2024-03-28             False   160.555008      True  \n",
      "\n",
      "[1213 rows x 13 columns]\n"
     ]
    }
   ],
   "source": [
    "df['Check_Total'] = df['Price Per Unit'] * df['Quantity']\n",
    "df['Mismatch'] = df['Check_Total'] != df['Total Spent']\n",
    "print(\"Mismatched Total Spent:\", df[df['Mismatch'] == True])"
   ]
  },
  {
   "cell_type": "code",
   "execution_count": 9,
   "id": "d29e34fd-5a9c-4e84-ba7e-fa5b3d39a901",
   "metadata": {},
   "outputs": [
    {
     "data": {
      "text/plain": [
       "Transaction ID       object\n",
       "Customer ID          object\n",
       "Category             object\n",
       "Item                 object\n",
       "Price Per Unit      float64\n",
       "Quantity            float64\n",
       "Total Spent         float64\n",
       "Payment Method       object\n",
       "Location             object\n",
       "Transaction Date     object\n",
       "Discount Applied       bool\n",
       "Check_Total         float64\n",
       "Mismatch               bool\n",
       "dtype: object"
      ]
     },
     "execution_count": 9,
     "metadata": {},
     "output_type": "execute_result"
    }
   ],
   "source": [
    "df.dtypes"
   ]
  },
  {
   "cell_type": "code",
   "execution_count": 10,
   "id": "69bd0080-4265-4728-9eab-35bd3105aac8",
   "metadata": {},
   "outputs": [
    {
     "data": {
      "text/plain": [
       "Transaction ID              object\n",
       "Customer ID                 object\n",
       "Category                    object\n",
       "Item                        object\n",
       "Price Per Unit             float64\n",
       "Quantity                   float64\n",
       "Total Spent                float64\n",
       "Payment Method              object\n",
       "Location                    object\n",
       "Transaction Date    datetime64[ns]\n",
       "Discount Applied              bool\n",
       "Check_Total                float64\n",
       "Mismatch                      bool\n",
       "dtype: object"
      ]
     },
     "execution_count": 10,
     "metadata": {},
     "output_type": "execute_result"
    }
   ],
   "source": [
    "df['Transaction Date'] = pd.to_datetime(df['Transaction Date'], errors='coerce')\n",
    "df['Price Per Unit'] = pd.to_numeric(df['Price Per Unit'], errors='coerce')\n",
    "df['Quantity'] = pd.to_numeric(df['Quantity'], errors='coerce')\n",
    "df['Total Spent'] = pd.to_numeric(df['Total Spent'], errors='coerce')\n",
    "df['Discount Applied'] = df['Discount Applied'].astype(bool)\n",
    "df.dtypes"
   ]
  },
  {
   "cell_type": "code",
   "execution_count": 11,
   "id": "6cc0371e-bde9-4c04-94fd-eeadd718e5d8",
   "metadata": {},
   "outputs": [
    {
     "data": {
      "text/plain": [
       "0        Digital Wallet\n",
       "1        Digital Wallet\n",
       "2           Credit Card\n",
       "3           Credit Card\n",
       "4        Digital Wallet\n",
       "              ...      \n",
       "12570       Credit Card\n",
       "12571              Cash\n",
       "12572              Cash\n",
       "12573              Cash\n",
       "12574              Cash\n",
       "Name: Payment Method, Length: 12575, dtype: object"
      ]
     },
     "execution_count": 11,
     "metadata": {},
     "output_type": "execute_result"
    }
   ],
   "source": [
    "df['Payment Method']= df['Payment Method'].str.strip().str.title()\n",
    "df['Payment Method']"
   ]
  },
  {
   "cell_type": "code",
   "execution_count": 12,
   "id": "4a7e50c7-cbcf-46d4-9b30-3d0704454890",
   "metadata": {},
   "outputs": [
    {
     "data": {
      "text/plain": [
       "0          Online\n",
       "1          Online\n",
       "2          Online\n",
       "3          Online\n",
       "4          Online\n",
       "           ...   \n",
       "12570    In-store\n",
       "12571      Online\n",
       "12572      Online\n",
       "12573      Online\n",
       "12574      Online\n",
       "Name: Location, Length: 12575, dtype: object"
      ]
     },
     "execution_count": 12,
     "metadata": {},
     "output_type": "execute_result"
    }
   ],
   "source": [
    "df['Location'] =df['Location'].str.strip().str.capitalize()\n",
    "df['Location']"
   ]
  },
  {
   "cell_type": "code",
   "execution_count": 13,
   "id": "b23845d9-fd74-44c1-8a00-ef9c86f03bc6",
   "metadata": {},
   "outputs": [
    {
     "data": {
      "text/plain": [
       "0           patisserie\n",
       "1        milk products\n",
       "2             butchers\n",
       "3            beverages\n",
       "4                 food\n",
       "             ...      \n",
       "12570       patisserie\n",
       "12571        beverages\n",
       "12572         butchers\n",
       "12573        furniture\n",
       "12574             food\n",
       "Name: Category, Length: 12575, dtype: object"
      ]
     },
     "execution_count": 13,
     "metadata": {},
     "output_type": "execute_result"
    }
   ],
   "source": [
    "df['Category'] = df['Category'].str.strip().str.lower()\n",
    "df['Category']"
   ]
  },
  {
   "cell_type": "markdown",
   "id": "ee702b76-0463-44b6-9e37-c807d4c47ccc",
   "metadata": {},
   "source": [
    "# Part 2: Basic Exploration (Univariate Analysis)"
   ]
  },
  {
   "cell_type": "code",
   "execution_count": 14,
   "id": "805a8d5b-65fe-4121-814e-3424bbd723ba",
   "metadata": {},
   "outputs": [
    {
     "name": "stdout",
     "output_type": "stream",
     "text": [
      "Total Transactions: 12575\n"
     ]
    }
   ],
   "source": [
    "total_transactions = len(df)\n",
    "print(\"Total Transactions:\", total_transactions)"
   ]
  },
  {
   "cell_type": "code",
   "execution_count": 15,
   "id": "86e526e9-c58d-485d-880f-4754bba15218",
   "metadata": {},
   "outputs": [
    {
     "name": "stdout",
     "output_type": "stream",
     "text": [
      "Unique Customers:  25\n"
     ]
    }
   ],
   "source": [
    "unique_customer = df['Customer ID'].nunique()\n",
    "print(\"Unique Customers: \", unique_customer)"
   ]
  },
  {
   "cell_type": "code",
   "execution_count": 16,
   "id": "c6debfda-c308-488b-954a-0189f5dacdb2",
   "metadata": {},
   "outputs": [
    {
     "name": "stdout",
     "output_type": "stream",
     "text": [
      "Transactions by Category:  Category\n",
      "electric household essentials         1591\n",
      "furniture                             1591\n",
      "food                                  1588\n",
      "milk products                         1584\n",
      "butchers                              1568\n",
      "beverages                             1567\n",
      "computers and electric accessories    1558\n",
      "patisserie                            1528\n",
      "Name: count, dtype: int64\n"
     ]
    }
   ],
   "source": [
    "category_dist = df['Category'].value_counts()\n",
    "print(\"Transactions by Category: \", category_dist)"
   ]
  },
  {
   "cell_type": "code",
   "execution_count": 17,
   "id": "c22895a6-e931-4860-971a-04d00ee68d6c",
   "metadata": {},
   "outputs": [
    {
     "name": "stdout",
     "output_type": "stream",
     "text": [
      "Transactions by Payment Method:  Payment Method\n",
      "Cash              4310\n",
      "Digital Wallet    4144\n",
      "Credit Card       4121\n",
      "Name: count, dtype: int64\n"
     ]
    }
   ],
   "source": [
    "payment_dist = df['Payment Method'].value_counts()\n",
    "print(\"Transactions by Payment Method: \", payment_dist)"
   ]
  },
  {
   "cell_type": "code",
   "execution_count": 18,
   "id": "95500499-ff53-44aa-aeed-c67880316789",
   "metadata": {},
   "outputs": [
    {
     "name": "stdout",
     "output_type": "stream",
     "text": [
      "Transactions by Location: Location\n",
      "Online      6354\n",
      "In-store    6221\n",
      "Name: count, dtype: int64\n"
     ]
    }
   ],
   "source": [
    "location_dist = df['Location'].value_counts()\n",
    "print(\"Transactions by Location:\", location_dist)"
   ]
  },
  {
   "cell_type": "code",
   "execution_count": 19,
   "id": "e9ebfb93-03bd-4131-b980-193080d15a52",
   "metadata": {},
   "outputs": [
    {
     "name": "stdout",
     "output_type": "stream",
     "text": [
      "Average Total Spent per Transaction:  128.64\n"
     ]
    }
   ],
   "source": [
    "avg_total_spent = df['Total Spent'].mean()\n",
    "print(\"Average Total Spent per Transaction: \", round(avg_total_spent,2))"
   ]
  },
  {
   "cell_type": "code",
   "execution_count": 20,
   "id": "3468d99f-736e-420e-acfd-21284c421d6e",
   "metadata": {},
   "outputs": [
    {
     "name": "stdout",
     "output_type": "stream",
     "text": [
      "Median Quantity Purchased per transaction:  5.536379583994654\n"
     ]
    }
   ],
   "source": [
    "median_quantity = df['Quantity'].median()\n",
    "print(\"Median Quantity Purchased per transaction: \", median_quantity)"
   ]
  },
  {
   "cell_type": "markdown",
   "id": "749ca4ce-43e5-4fc6-86e6-ef2d73954d00",
   "metadata": {},
   "source": [
    "# Part 3: Customer Analysis"
   ]
  },
  {
   "cell_type": "code",
   "execution_count": 21,
   "id": "2830a260-474e-48e1-8970-21f8f890982e",
   "metadata": {},
   "outputs": [
    {
     "name": "stdout",
     "output_type": "stream",
     "text": [
      "Customers Who Spent the Most Overall:\n",
      " Customer ID\n",
      "CUST_24    71056.0\n",
      "CUST_08    70172.5\n",
      "CUST_05    70012.5\n",
      "CUST_23    67979.0\n",
      "CUST_13    67858.0\n",
      "CUST_16    67849.0\n",
      "CUST_10    65325.5\n",
      "CUST_21    65320.0\n",
      "CUST_15    65070.5\n",
      "CUST_22    64662.0\n",
      "Name: Total Spent, dtype: float64\n"
     ]
    }
   ],
   "source": [
    "total_spent_per_customer = df.groupby('Customer ID')['Total Spent'].sum().sort_values(ascending=False)\n",
    "print(\"Customers Who Spent the Most Overall:\\n\", total_spent_per_customer.head(10))"
   ]
  },
  {
   "cell_type": "code",
   "execution_count": 22,
   "id": "bf10ed04-7ae0-4552-a032-ddc9cebc3ee0",
   "metadata": {},
   "outputs": [
    {
     "name": "stdout",
     "output_type": "stream",
     "text": [
      "Customers With Highest Number of Transactions:  Customer ID\n",
      "CUST_05    544\n",
      "CUST_24    543\n",
      "CUST_13    534\n",
      "CUST_08    533\n",
      "CUST_09    519\n",
      "CUST_15    519\n",
      "CUST_16    515\n",
      "CUST_23    513\n",
      "CUST_20    507\n",
      "CUST_18    507\n",
      "Name: count, dtype: int64\n"
     ]
    }
   ],
   "source": [
    "transactions_per_customer = df['Customer ID'].value_counts().sort_values(ascending=False)\n",
    "print(\"Customers With Highest Number of Transactions: \", transactions_per_customer.head(10))"
   ]
  },
  {
   "cell_type": "code",
   "execution_count": 23,
   "id": "26f27052-4ed7-45d0-b219-5ff90be39d87",
   "metadata": {},
   "outputs": [
    {
     "name": "stdout",
     "output_type": "stream",
     "text": [
      "Customers With Most Categories Purchased:\n",
      " Customer ID\n",
      "CUST_01    8\n",
      "CUST_02    8\n",
      "CUST_03    8\n",
      "CUST_04    8\n",
      "CUST_05    8\n",
      "CUST_06    8\n",
      "CUST_07    8\n",
      "CUST_08    8\n",
      "CUST_09    8\n",
      "CUST_10    8\n",
      "Name: Category, dtype: int64\n"
     ]
    }
   ],
   "source": [
    "categories_per_customer = df.groupby('Customer ID')['Category'].nunique().sort_values(ascending=False)\n",
    "print(\"Customers With Most Categories Purchased:\\n\", categories_per_customer.head(10))"
   ]
  },
  {
   "cell_type": "code",
   "execution_count": 24,
   "id": "10a142d2-a1d9-430e-b1a4-50f109639a4d",
   "metadata": {},
   "outputs": [
    {
     "name": "stdout",
     "output_type": "stream",
     "text": [
      "\n",
      "Customer Preference (Online vs In-store):\n",
      " Location     In-store  Online\n",
      "Customer ID                  \n",
      "CUST_01           256     251\n",
      "CUST_02           259     229\n",
      "CUST_03           230     235\n",
      "CUST_04           245     229\n",
      "CUST_05           266     278\n",
      "CUST_06           261     220\n",
      "CUST_07           227     264\n",
      "CUST_08           250     283\n",
      "CUST_09           250     269\n",
      "CUST_10           252     249\n"
     ]
    }
   ],
   "source": [
    "location_pref = df.groupby('Customer ID')['Location'].value_counts().unstack(fill_value=0)\n",
    "print(\"\\nCustomer Preference (Online vs In-store):\\n\", location_pref.head(10))"
   ]
  },
  {
   "cell_type": "code",
   "execution_count": 25,
   "id": "0ef0bb2e-e50d-4800-baf9-036daafcf171",
   "metadata": {},
   "outputs": [
    {
     "name": "stdout",
     "output_type": "stream",
     "text": [
      "\n",
      "Customers With Largest Average Spend per Transaction:\n",
      " Customer ID\n",
      "CUST_03    135.209677\n",
      "CUST_04    134.660338\n",
      "CUST_23    132.512671\n",
      "CUST_02    131.813525\n",
      "CUST_16    131.745631\n",
      "CUST_08    131.655722\n",
      "CUST_19    131.523614\n",
      "CUST_21    131.164659\n",
      "CUST_24    130.858195\n",
      "CUST_10    130.390220\n",
      "Name: Total Spent, dtype: float64\n"
     ]
    }
   ],
   "source": [
    "avg_spent_per_customer = df.groupby('Customer ID')['Total Spent'].mean().sort_values(ascending=False)\n",
    "print(\"\\nCustomers With Largest Average Spend per Transaction:\\n\", avg_spent_per_customer.head(10))"
   ]
  },
  {
   "cell_type": "markdown",
   "id": "97c604c5-96f4-4089-a9f8-06c815d06424",
   "metadata": {},
   "source": [
    "# Part 4: Category & Item Analysis"
   ]
  },
  {
   "cell_type": "code",
   "execution_count": 26,
   "id": "622c7e08-20ed-43a2-b183-b6f45b3c2a68",
   "metadata": {},
   "outputs": [
    {
     "name": "stdout",
     "output_type": "stream",
     "text": [
      "Category Generating Most Total Revenue:\n",
      " Category\n",
      "butchers                              215930.0\n",
      "electric household essentials         211951.0\n",
      "beverages                             204751.0\n",
      "food                                  203600.5\n",
      "furniture                             202471.0\n",
      "computers and electric accessories    199481.0\n",
      "patisserie                            191605.0\n",
      "milk products                         187815.5\n",
      "Name: Total Spent, dtype: float64\n"
     ]
    }
   ],
   "source": [
    "revenue_per_category = df.groupby('Category')['Total Spent'].sum().sort_values(ascending=False)\n",
    "print(\"Category Generating Most Total Revenue:\\n\", revenue_per_category.head(10))"
   ]
  },
  {
   "cell_type": "code",
   "execution_count": 27,
   "id": "a63d816a-28fa-4c5a-a663-00a73760bce5",
   "metadata": {},
   "outputs": [
    {
     "name": "stdout",
     "output_type": "stream",
     "text": [
      "\n",
      "Category with Highest Average Total Spent per Transaction:\n",
      " Category\n",
      "butchers                              137.710459\n",
      "electric household essentials         133.218730\n",
      "beverages                             130.664327\n",
      "food                                  128.211902\n",
      "computers and electric accessories    128.036585\n",
      "furniture                             127.260214\n",
      "patisserie                            125.395942\n",
      "milk products                         118.570391\n",
      "Name: Total Spent, dtype: float64\n"
     ]
    }
   ],
   "source": [
    "avg_spent_per_category = df.groupby('Category')['Total Spent'].mean().sort_values(ascending=False)\n",
    "print(\"\\nCategory with Highest Average Total Spent per Transaction:\\n\", avg_spent_per_category.head(10))"
   ]
  },
  {
   "cell_type": "code",
   "execution_count": 28,
   "id": "678fad59-a77d-490d-9573-04ed7fc370fc",
   "metadata": {},
   "outputs": [
    {
     "name": "stdout",
     "output_type": "stream",
     "text": [
      "\n",
      "Top Selling Items by Quantity Sold:\n",
      " Item\n",
      "Unknown         6730.973269\n",
      "Item_2_BEV       676.000000\n",
      "Item_16_MILK     627.000000\n",
      "Item_25_FUR      616.000000\n",
      "Item_19_MILK     589.000000\n",
      "Item_13_FOOD     581.000000\n",
      "Item_5_FUR       581.000000\n",
      "Item_1_MILK      578.000000\n",
      "Item_11_MILK     574.000000\n",
      "Item_11_FUR      573.000000\n",
      "Name: Quantity, dtype: float64\n"
     ]
    }
   ],
   "source": [
    "top_items_by_quantity = df.groupby('Item')['Quantity'].sum().sort_values(ascending=False)\n",
    "print(\"\\nTop Selling Items by Quantity Sold:\\n\", top_items_by_quantity.head(10))"
   ]
  },
  {
   "cell_type": "code",
   "execution_count": 29,
   "id": "10927d39-adba-460a-b667-bb183f14eb17",
   "metadata": {},
   "outputs": [
    {
     "name": "stdout",
     "output_type": "stream",
     "text": [
      "\n",
      "Discount Frequency by Category (Proportion of Transactions with Discount):\n",
      " Category\n",
      "furniture                             0.694532\n",
      "beverages                             0.684110\n",
      "patisserie                            0.678010\n",
      "butchers                              0.672194\n",
      "electric household essentials         0.668133\n",
      "food                                  0.655542\n",
      "milk products                         0.653409\n",
      "computers and electric accessories    0.649551\n",
      "Name: Discount Applied, dtype: float64\n"
     ]
    }
   ],
   "source": [
    "discount_freq_by_category = df.groupby('Category')['Discount Applied'].mean().sort_values(ascending=False)\n",
    "print(\"\\nDiscount Frequency by Category (Proportion of Transactions with Discount):\\n\", discount_freq_by_category.head(10))"
   ]
  },
  {
   "cell_type": "code",
   "execution_count": 30,
   "id": "2833765e-00ea-46c1-80a5-72c63d15a4f0",
   "metadata": {},
   "outputs": [
    {
     "name": "stdout",
     "output_type": "stream",
     "text": [
      "\n",
      "Category with Highest Number of Unique Customers:\n",
      " Category\n",
      "beverages                             25\n",
      "butchers                              25\n",
      "computers and electric accessories    25\n",
      "electric household essentials         25\n",
      "food                                  25\n",
      "furniture                             25\n",
      "milk products                         25\n",
      "patisserie                            25\n",
      "Name: Customer ID, dtype: int64\n"
     ]
    }
   ],
   "source": [
    "unique_customers_per_category = df.groupby('Category')['Customer ID'].nunique().sort_values(ascending=False)\n",
    "print(\"\\nCategory with Highest Number of Unique Customers:\\n\", unique_customers_per_category.head(10))"
   ]
  },
  {
   "cell_type": "markdown",
   "id": "871c03a1-fc9f-4c9d-9485-764ab1eef498",
   "metadata": {},
   "source": [
    "# Part 5: Time-based Analysis"
   ]
  },
  {
   "cell_type": "code",
   "execution_count": 32,
   "id": "ab27df54-8e4f-4d3c-9bc4-0274f1b01952",
   "metadata": {},
   "outputs": [
    {
     "data": {
      "text/plain": [
       "min   2022-01-01\n",
       "max   2025-01-18\n",
       "Name: Transaction Date, dtype: datetime64[ns]"
      ]
     },
     "execution_count": 32,
     "metadata": {},
     "output_type": "execute_result"
    }
   ],
   "source": [
    "date_range = df['Transaction Date'].agg(['min','max'])\n",
    "date_range"
   ]
  },
  {
   "cell_type": "code",
   "execution_count": 33,
   "id": "045e804c-925d-4b41-a205-1a9afeccd2de",
   "metadata": {},
   "outputs": [
    {
     "data": {
      "text/html": [
       "<div>\n",
       "<style scoped>\n",
       "    .dataframe tbody tr th:only-of-type {\n",
       "        vertical-align: middle;\n",
       "    }\n",
       "\n",
       "    .dataframe tbody tr th {\n",
       "        vertical-align: top;\n",
       "    }\n",
       "\n",
       "    .dataframe thead th {\n",
       "        text-align: right;\n",
       "    }\n",
       "</style>\n",
       "<table border=\"1\" class=\"dataframe\">\n",
       "  <thead>\n",
       "    <tr style=\"text-align: right;\">\n",
       "      <th></th>\n",
       "      <th>Transaction ID</th>\n",
       "      <th>Customer ID</th>\n",
       "      <th>Category</th>\n",
       "      <th>Item</th>\n",
       "      <th>Price Per Unit</th>\n",
       "      <th>Quantity</th>\n",
       "      <th>Total Spent</th>\n",
       "      <th>Payment Method</th>\n",
       "      <th>Location</th>\n",
       "      <th>Transaction Date</th>\n",
       "      <th>Discount Applied</th>\n",
       "      <th>Check_Total</th>\n",
       "      <th>Mismatch</th>\n",
       "      <th>Year</th>\n",
       "      <th>Month</th>\n",
       "      <th>Year-Month</th>\n",
       "    </tr>\n",
       "  </thead>\n",
       "  <tbody>\n",
       "    <tr>\n",
       "      <th>0</th>\n",
       "      <td>TXN_6867343</td>\n",
       "      <td>CUST_09</td>\n",
       "      <td>patisserie</td>\n",
       "      <td>Item_10_PAT</td>\n",
       "      <td>18.5</td>\n",
       "      <td>10.0</td>\n",
       "      <td>185.0</td>\n",
       "      <td>Digital Wallet</td>\n",
       "      <td>Online</td>\n",
       "      <td>2024-04-08</td>\n",
       "      <td>True</td>\n",
       "      <td>185.0</td>\n",
       "      <td>False</td>\n",
       "      <td>2024</td>\n",
       "      <td>4</td>\n",
       "      <td>2024-04</td>\n",
       "    </tr>\n",
       "    <tr>\n",
       "      <th>1</th>\n",
       "      <td>TXN_3731986</td>\n",
       "      <td>CUST_22</td>\n",
       "      <td>milk products</td>\n",
       "      <td>Item_17_MILK</td>\n",
       "      <td>29.0</td>\n",
       "      <td>9.0</td>\n",
       "      <td>261.0</td>\n",
       "      <td>Digital Wallet</td>\n",
       "      <td>Online</td>\n",
       "      <td>2023-07-23</td>\n",
       "      <td>True</td>\n",
       "      <td>261.0</td>\n",
       "      <td>False</td>\n",
       "      <td>2023</td>\n",
       "      <td>7</td>\n",
       "      <td>2023-07</td>\n",
       "    </tr>\n",
       "    <tr>\n",
       "      <th>2</th>\n",
       "      <td>TXN_9303719</td>\n",
       "      <td>CUST_02</td>\n",
       "      <td>butchers</td>\n",
       "      <td>Item_12_BUT</td>\n",
       "      <td>21.5</td>\n",
       "      <td>2.0</td>\n",
       "      <td>43.0</td>\n",
       "      <td>Credit Card</td>\n",
       "      <td>Online</td>\n",
       "      <td>2022-10-05</td>\n",
       "      <td>False</td>\n",
       "      <td>43.0</td>\n",
       "      <td>False</td>\n",
       "      <td>2022</td>\n",
       "      <td>10</td>\n",
       "      <td>2022-10</td>\n",
       "    </tr>\n",
       "    <tr>\n",
       "      <th>3</th>\n",
       "      <td>TXN_9458126</td>\n",
       "      <td>CUST_06</td>\n",
       "      <td>beverages</td>\n",
       "      <td>Item_16_BEV</td>\n",
       "      <td>27.5</td>\n",
       "      <td>9.0</td>\n",
       "      <td>247.5</td>\n",
       "      <td>Credit Card</td>\n",
       "      <td>Online</td>\n",
       "      <td>2022-05-07</td>\n",
       "      <td>True</td>\n",
       "      <td>247.5</td>\n",
       "      <td>False</td>\n",
       "      <td>2022</td>\n",
       "      <td>5</td>\n",
       "      <td>2022-05</td>\n",
       "    </tr>\n",
       "    <tr>\n",
       "      <th>4</th>\n",
       "      <td>TXN_4575373</td>\n",
       "      <td>CUST_05</td>\n",
       "      <td>food</td>\n",
       "      <td>Item_6_FOOD</td>\n",
       "      <td>12.5</td>\n",
       "      <td>7.0</td>\n",
       "      <td>87.5</td>\n",
       "      <td>Digital Wallet</td>\n",
       "      <td>Online</td>\n",
       "      <td>2022-10-02</td>\n",
       "      <td>False</td>\n",
       "      <td>87.5</td>\n",
       "      <td>False</td>\n",
       "      <td>2022</td>\n",
       "      <td>10</td>\n",
       "      <td>2022-10</td>\n",
       "    </tr>\n",
       "    <tr>\n",
       "      <th>...</th>\n",
       "      <td>...</td>\n",
       "      <td>...</td>\n",
       "      <td>...</td>\n",
       "      <td>...</td>\n",
       "      <td>...</td>\n",
       "      <td>...</td>\n",
       "      <td>...</td>\n",
       "      <td>...</td>\n",
       "      <td>...</td>\n",
       "      <td>...</td>\n",
       "      <td>...</td>\n",
       "      <td>...</td>\n",
       "      <td>...</td>\n",
       "      <td>...</td>\n",
       "      <td>...</td>\n",
       "      <td>...</td>\n",
       "    </tr>\n",
       "    <tr>\n",
       "      <th>12570</th>\n",
       "      <td>TXN_9347481</td>\n",
       "      <td>CUST_18</td>\n",
       "      <td>patisserie</td>\n",
       "      <td>Item_23_PAT</td>\n",
       "      <td>38.0</td>\n",
       "      <td>4.0</td>\n",
       "      <td>152.0</td>\n",
       "      <td>Credit Card</td>\n",
       "      <td>In-store</td>\n",
       "      <td>2023-09-03</td>\n",
       "      <td>True</td>\n",
       "      <td>152.0</td>\n",
       "      <td>False</td>\n",
       "      <td>2023</td>\n",
       "      <td>9</td>\n",
       "      <td>2023-09</td>\n",
       "    </tr>\n",
       "    <tr>\n",
       "      <th>12571</th>\n",
       "      <td>TXN_4009414</td>\n",
       "      <td>CUST_03</td>\n",
       "      <td>beverages</td>\n",
       "      <td>Item_2_BEV</td>\n",
       "      <td>6.5</td>\n",
       "      <td>9.0</td>\n",
       "      <td>58.5</td>\n",
       "      <td>Cash</td>\n",
       "      <td>Online</td>\n",
       "      <td>2022-08-12</td>\n",
       "      <td>False</td>\n",
       "      <td>58.5</td>\n",
       "      <td>False</td>\n",
       "      <td>2022</td>\n",
       "      <td>8</td>\n",
       "      <td>2022-08</td>\n",
       "    </tr>\n",
       "    <tr>\n",
       "      <th>12572</th>\n",
       "      <td>TXN_5306010</td>\n",
       "      <td>CUST_11</td>\n",
       "      <td>butchers</td>\n",
       "      <td>Item_7_BUT</td>\n",
       "      <td>14.0</td>\n",
       "      <td>10.0</td>\n",
       "      <td>140.0</td>\n",
       "      <td>Cash</td>\n",
       "      <td>Online</td>\n",
       "      <td>2024-08-24</td>\n",
       "      <td>True</td>\n",
       "      <td>140.0</td>\n",
       "      <td>False</td>\n",
       "      <td>2024</td>\n",
       "      <td>8</td>\n",
       "      <td>2024-08</td>\n",
       "    </tr>\n",
       "    <tr>\n",
       "      <th>12573</th>\n",
       "      <td>TXN_5167298</td>\n",
       "      <td>CUST_04</td>\n",
       "      <td>furniture</td>\n",
       "      <td>Item_7_FUR</td>\n",
       "      <td>14.0</td>\n",
       "      <td>6.0</td>\n",
       "      <td>84.0</td>\n",
       "      <td>Cash</td>\n",
       "      <td>Online</td>\n",
       "      <td>2023-12-30</td>\n",
       "      <td>True</td>\n",
       "      <td>84.0</td>\n",
       "      <td>False</td>\n",
       "      <td>2023</td>\n",
       "      <td>12</td>\n",
       "      <td>2023-12</td>\n",
       "    </tr>\n",
       "    <tr>\n",
       "      <th>12574</th>\n",
       "      <td>TXN_2407494</td>\n",
       "      <td>CUST_23</td>\n",
       "      <td>food</td>\n",
       "      <td>Item_9_FOOD</td>\n",
       "      <td>17.0</td>\n",
       "      <td>3.0</td>\n",
       "      <td>51.0</td>\n",
       "      <td>Cash</td>\n",
       "      <td>Online</td>\n",
       "      <td>2022-08-06</td>\n",
       "      <td>True</td>\n",
       "      <td>51.0</td>\n",
       "      <td>False</td>\n",
       "      <td>2022</td>\n",
       "      <td>8</td>\n",
       "      <td>2022-08</td>\n",
       "    </tr>\n",
       "  </tbody>\n",
       "</table>\n",
       "<p>12575 rows × 16 columns</p>\n",
       "</div>"
      ],
      "text/plain": [
       "      Transaction ID Customer ID       Category          Item  Price Per Unit  \\\n",
       "0        TXN_6867343     CUST_09     patisserie   Item_10_PAT            18.5   \n",
       "1        TXN_3731986     CUST_22  milk products  Item_17_MILK            29.0   \n",
       "2        TXN_9303719     CUST_02       butchers   Item_12_BUT            21.5   \n",
       "3        TXN_9458126     CUST_06      beverages   Item_16_BEV            27.5   \n",
       "4        TXN_4575373     CUST_05           food   Item_6_FOOD            12.5   \n",
       "...              ...         ...            ...           ...             ...   \n",
       "12570    TXN_9347481     CUST_18     patisserie   Item_23_PAT            38.0   \n",
       "12571    TXN_4009414     CUST_03      beverages    Item_2_BEV             6.5   \n",
       "12572    TXN_5306010     CUST_11       butchers    Item_7_BUT            14.0   \n",
       "12573    TXN_5167298     CUST_04      furniture    Item_7_FUR            14.0   \n",
       "12574    TXN_2407494     CUST_23           food   Item_9_FOOD            17.0   \n",
       "\n",
       "       Quantity  Total Spent  Payment Method  Location Transaction Date  \\\n",
       "0          10.0        185.0  Digital Wallet    Online       2024-04-08   \n",
       "1           9.0        261.0  Digital Wallet    Online       2023-07-23   \n",
       "2           2.0         43.0     Credit Card    Online       2022-10-05   \n",
       "3           9.0        247.5     Credit Card    Online       2022-05-07   \n",
       "4           7.0         87.5  Digital Wallet    Online       2022-10-02   \n",
       "...         ...          ...             ...       ...              ...   \n",
       "12570       4.0        152.0     Credit Card  In-store       2023-09-03   \n",
       "12571       9.0         58.5            Cash    Online       2022-08-12   \n",
       "12572      10.0        140.0            Cash    Online       2024-08-24   \n",
       "12573       6.0         84.0            Cash    Online       2023-12-30   \n",
       "12574       3.0         51.0            Cash    Online       2022-08-06   \n",
       "\n",
       "       Discount Applied  Check_Total  Mismatch  Year  Month Year-Month  \n",
       "0                  True        185.0     False  2024      4    2024-04  \n",
       "1                  True        261.0     False  2023      7    2023-07  \n",
       "2                 False         43.0     False  2022     10    2022-10  \n",
       "3                  True        247.5     False  2022      5    2022-05  \n",
       "4                 False         87.5     False  2022     10    2022-10  \n",
       "...                 ...          ...       ...   ...    ...        ...  \n",
       "12570              True        152.0     False  2023      9    2023-09  \n",
       "12571             False         58.5     False  2022      8    2022-08  \n",
       "12572              True        140.0     False  2024      8    2024-08  \n",
       "12573              True         84.0     False  2023     12    2023-12  \n",
       "12574              True         51.0     False  2022      8    2022-08  \n",
       "\n",
       "[12575 rows x 16 columns]"
      ]
     },
     "execution_count": 33,
     "metadata": {},
     "output_type": "execute_result"
    }
   ],
   "source": [
    "df['Year']=df['Transaction Date'].dt.year\n",
    "df['Month']=df['Transaction Date'].dt.month\n",
    "df['Year-Month']=df['Transaction Date'].dt.to_period('M')\n",
    "df"
   ]
  },
  {
   "cell_type": "code",
   "execution_count": 34,
   "id": "3a7581f6-cc93-41ba-b5ba-414815d42691",
   "metadata": {},
   "outputs": [
    {
     "name": "stdout",
     "output_type": "stream",
     "text": [
      "\n",
      "Monthly Transaction Trend:\n",
      " Year-Month\n",
      "2022-01    390\n",
      "2022-02    331\n",
      "2022-03    353\n",
      "2022-04    346\n",
      "2022-05    330\n",
      "2022-06    338\n",
      "2022-07    371\n",
      "2022-08    347\n",
      "2022-09    348\n",
      "2022-10    317\n",
      "2022-11    354\n",
      "2022-12    309\n",
      "Freq: M, Name: Transaction ID, dtype: int64\n"
     ]
    }
   ],
   "source": [
    "monthly_trend = df.groupby('Year-Month')['Transaction ID'].count()\n",
    "print(\"\\nMonthly Transaction Trend:\\n\", monthly_trend.head(12))"
   ]
  },
  {
   "cell_type": "code",
   "execution_count": 35,
   "id": "39934da0-16e1-4867-b7ad-d56a357f811e",
   "metadata": {},
   "outputs": [
    {
     "name": "stdout",
     "output_type": "stream",
     "text": [
      "\n",
      "Yearly Transaction Trend:\n",
      " Year\n",
      "2022    4134\n",
      "2023    3987\n",
      "2024    4241\n",
      "2025     213\n",
      "Name: Transaction ID, dtype: int64\n"
     ]
    }
   ],
   "source": [
    "yearly_trend = df.groupby('Year')['Transaction ID'].count()\n",
    "print(\"\\nYearly Transaction Trend:\\n\", yearly_trend)"
   ]
  },
  {
   "cell_type": "code",
   "execution_count": 36,
   "id": "a4b470fa-4254-423e-bc03-98eafa19126a",
   "metadata": {},
   "outputs": [
    {
     "name": "stdout",
     "output_type": "stream",
     "text": [
      "\n",
      "Month(s) with Most Transactions:\n",
      " Month\n",
      "1    1361\n",
      "Name: Transaction ID, dtype: int64\n"
     ]
    }
   ],
   "source": [
    "transactions_per_month = df.groupby('Month')['Transaction ID'].count()\n",
    "most_transactions_month = transactions_per_month[transactions_per_month == transactions_per_month.max()]\n",
    "print(\"\\nMonth(s) with Most Transactions:\\n\", most_transactions_month)"
   ]
  },
  {
   "cell_type": "code",
   "execution_count": 37,
   "id": "a8ee5f73-5311-46d2-b5ba-0e072317f422",
   "metadata": {},
   "outputs": [
    {
     "name": "stdout",
     "output_type": "stream",
     "text": [
      "\n",
      "Month with Highest Total Revenue:\n",
      " Month\n",
      "1    181582.0\n",
      "Name: Total Spent, dtype: float64\n"
     ]
    }
   ],
   "source": [
    "revenue_per_month = df.groupby('Month')['Total Spent'].sum()\n",
    "highest_revenue_month = revenue_per_month[revenue_per_month == revenue_per_month.max()]\n",
    "print(\"\\nMonth with Highest Total Revenue:\\n\", highest_revenue_month)"
   ]
  },
  {
   "cell_type": "code",
   "execution_count": 38,
   "id": "bd30082b-d444-40c2-a88a-8c7755f29982",
   "metadata": {},
   "outputs": [
    {
     "name": "stdout",
     "output_type": "stream",
     "text": [
      "\n",
      "Average Transaction Value per Year:\n",
      " Year\n",
      "2022    128.932269\n",
      "2023    128.099699\n",
      "2024    129.008135\n",
      "2025    125.549296\n",
      "Name: Total Spent, dtype: float64\n"
     ]
    }
   ],
   "source": [
    "avg_transaction_value_per_year = df.groupby('Year')['Total Spent'].mean()\n",
    "print(\"\\nAverage Transaction Value per Year:\\n\", avg_transaction_value_per_year)"
   ]
  },
  {
   "cell_type": "code",
   "execution_count": 39,
   "id": "0734e48e-0226-4737-8dbe-240d0267a2f8",
   "metadata": {},
   "outputs": [
    {
     "name": "stdout",
     "output_type": "stream",
     "text": [
      "\n",
      "Discount Transactions per Month:\n",
      " Month\n",
      "1     930\n",
      "2     659\n",
      "3     662\n",
      "4     653\n",
      "5     674\n",
      "6     724\n",
      "7     719\n",
      "8     693\n",
      "9     701\n",
      "10    650\n",
      "11    666\n",
      "12    687\n",
      "Name: Transaction ID, dtype: int64\n"
     ]
    }
   ],
   "source": [
    "discounts_per_month = df[df['Discount Applied'] == True].groupby('Month')['Transaction ID'].count()\n",
    "print(\"\\nDiscount Transactions per Month:\\n\", discounts_per_month)"
   ]
  },
  {
   "cell_type": "markdown",
   "id": "fc05e1dd-4ba5-4425-ad52-10bf3cfe312c",
   "metadata": {},
   "source": [
    "# Part 6: Payment & Discount Insights"
   ]
  },
  {
   "cell_type": "code",
   "execution_count": 40,
   "id": "d6610b71-1d00-4556-9bf4-398ad1ceab02",
   "metadata": {},
   "outputs": [
    {
     "name": "stdout",
     "output_type": "stream",
     "text": [
      "Most Used Payment Methods:\n",
      " Payment Method\n",
      "Cash              4310\n",
      "Digital Wallet    4144\n",
      "Credit Card       4121\n",
      "Name: count, dtype: int64\n"
     ]
    }
   ],
   "source": [
    "most_used_payment = df['Payment Method'].value_counts()\n",
    "print(\"Most Used Payment Methods:\\n\", most_used_payment)"
   ]
  },
  {
   "cell_type": "code",
   "execution_count": 41,
   "id": "3963ad78-7532-4e10-b00d-c69fb7765f86",
   "metadata": {},
   "outputs": [
    {
     "name": "stdout",
     "output_type": "stream",
     "text": [
      "\n",
      "Payment Method Generating Highest Revenue:\n",
      " Payment Method\n",
      "Cash              560169.5\n",
      "Digital Wallet    529304.5\n",
      "Credit Card       528131.0\n",
      "Name: Total Spent, dtype: float64\n"
     ]
    }
   ],
   "source": [
    "revenue_per_payment = df.groupby('Payment Method')['Total Spent'].sum().sort_values(ascending=False)\n",
    "print(\"\\nPayment Method Generating Highest Revenue:\\n\", revenue_per_payment)"
   ]
  },
  {
   "cell_type": "code",
   "execution_count": 42,
   "id": "81f81a80-30e2-40ba-98ba-786f3f12d121",
   "metadata": {},
   "outputs": [
    {
     "name": "stdout",
     "output_type": "stream",
     "text": [
      "\n",
      "Average Total Spent (Credit Card vs Digital Wallet):\n",
      " Payment Method\n",
      "Credit Card       128.15603\n",
      "Digital Wallet    127.72792\n",
      "Name: Total Spent, dtype: float64\n"
     ]
    }
   ],
   "source": [
    "avg_spent_payment = df[df['Payment Method'].isin(['Credit Card', 'Digital Wallet'])].groupby('Payment Method')['Total Spent'].mean()\n",
    "print(\"\\nAverage Total Spent (Credit Card vs Digital Wallet):\\n\", avg_spent_payment)"
   ]
  },
  {
   "cell_type": "code",
   "execution_count": 44,
   "id": "4ff96721-3b37-482e-a0d0-574e9c9a5120",
   "metadata": {},
   "outputs": [
    {
     "name": "stdout",
     "output_type": "stream",
     "text": [
      "\n",
      "Percentage of Transactions with Discount Applied: 66.94%\n"
     ]
    }
   ],
   "source": [
    "discount_percentage = (df['Discount Applied'].sum() / len(df)) * 100\n",
    "print(\"\\nPercentage of Transactions with Discount Applied: {:.2f}%\".format(discount_percentage))"
   ]
  },
  {
   "cell_type": "code",
   "execution_count": 45,
   "id": "990402d1-2a1e-436b-b6a4-14f553695f57",
   "metadata": {},
   "outputs": [
    {
     "name": "stdout",
     "output_type": "stream",
     "text": [
      "\n",
      "Average Quantity per Transaction (Discount vs No Discount):\n",
      " Discount Applied\n",
      "False    5.578908\n",
      "True     5.515378\n",
      "Name: Quantity, dtype: float64\n"
     ]
    }
   ],
   "source": [
    "avg_quantity_discount = df.groupby('Discount Applied')['Quantity'].mean()\n",
    "print(\"\\nAverage Quantity per Transaction (Discount vs No Discount):\\n\", avg_quantity_discount)"
   ]
  },
  {
   "cell_type": "code",
   "execution_count": 46,
   "id": "3eb72081-f6c8-4b1c-9465-30079fda1765",
   "metadata": {},
   "outputs": [
    {
     "name": "stdout",
     "output_type": "stream",
     "text": [
      "\n",
      "Total Revenue: Discount vs No Discount:\n",
      " Discount Applied\n",
      "False     536075.5\n",
      "True     1081529.5\n",
      "Name: Total Spent, dtype: float64\n"
     ]
    }
   ],
   "source": [
    "total_revenue_discount = df.groupby('Discount Applied')['Total Spent'].sum()\n",
    "print(\"\\nTotal Revenue: Discount vs No Discount:\\n\", total_revenue_discount)"
   ]
  },
  {
   "cell_type": "code",
   "execution_count": null,
   "id": "a2a0a61b-b036-457c-8bb4-5d60ddfbb7e8",
   "metadata": {},
   "outputs": [],
   "source": []
  }
 ],
 "metadata": {
  "kernelspec": {
   "display_name": "Python 3 (ipykernel)",
   "language": "python",
   "name": "python3"
  },
  "language_info": {
   "codemirror_mode": {
    "name": "ipython",
    "version": 3
   },
   "file_extension": ".py",
   "mimetype": "text/x-python",
   "name": "python",
   "nbconvert_exporter": "python",
   "pygments_lexer": "ipython3",
   "version": "3.13.5"
  }
 },
 "nbformat": 4,
 "nbformat_minor": 5
}
