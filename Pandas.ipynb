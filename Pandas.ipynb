{
 "cells": [
  {
   "cell_type": "markdown",
   "id": "91eb9b10-4635-4606-92d2-d480bb6be137",
   "metadata": {},
   "source": [
    "# list(Data frame)"
   ]
  },
  {
   "cell_type": "code",
   "execution_count": 15,
   "id": "7bd674d9-c88f-44b5-9049-558812281cae",
   "metadata": {},
   "outputs": [
    {
     "name": "stdout",
     "output_type": "stream",
     "text": [
      "    Name  Age  Marks\n",
      "0    Ali   20     88\n",
      "1  Faiqa   22     92\n",
      "2   John   19     79\n"
     ]
    }
   ],
   "source": [
    "import pandas as pd\n",
    "\n",
    "\n",
    "data = [\n",
    "    [\"Ali\", 20, 88],\n",
    "    [\"Faiqa\", 22, 92],\n",
    "    [\"John\", 19, 79]\n",
    "]\n",
    "\n",
    "df = pd.DataFrame(data, columns=[\"Name\", \"Age\", \"Marks\"])\n",
    "print(df)\n"
   ]
  },
  {
   "cell_type": "code",
   "execution_count": 16,
   "id": "6d9a9284-1ee9-4b3b-a62d-d96b8b7ccc11",
   "metadata": {},
   "outputs": [],
   "source": [
    "import pandas as pd"
   ]
  },
  {
   "cell_type": "code",
   "execution_count": 17,
   "id": "8c6c53d2-46b9-4825-ad58-f66f406da4a0",
   "metadata": {},
   "outputs": [],
   "source": [
    "df = pd.read_csv(\"C:\\\\Users\\\\Gateway\\\\Desktop\\\\seattle-weather.csv\")"
   ]
  },
  {
   "cell_type": "code",
   "execution_count": 18,
   "id": "13078fd5-21bf-4246-a788-8f8f93f49f78",
   "metadata": {},
   "outputs": [
    {
     "data": {
      "text/html": [
       "<div>\n",
       "<style scoped>\n",
       "    .dataframe tbody tr th:only-of-type {\n",
       "        vertical-align: middle;\n",
       "    }\n",
       "\n",
       "    .dataframe tbody tr th {\n",
       "        vertical-align: top;\n",
       "    }\n",
       "\n",
       "    .dataframe thead th {\n",
       "        text-align: right;\n",
       "    }\n",
       "</style>\n",
       "<table border=\"1\" class=\"dataframe\">\n",
       "  <thead>\n",
       "    <tr style=\"text-align: right;\">\n",
       "      <th></th>\n",
       "      <th>date</th>\n",
       "      <th>precipitation</th>\n",
       "      <th>temp_max</th>\n",
       "      <th>temp_min</th>\n",
       "      <th>wind</th>\n",
       "      <th>weather</th>\n",
       "    </tr>\n",
       "  </thead>\n",
       "  <tbody>\n",
       "    <tr>\n",
       "      <th>0</th>\n",
       "      <td>1/1/2012</td>\n",
       "      <td>0.0</td>\n",
       "      <td>12.8</td>\n",
       "      <td>5.0</td>\n",
       "      <td>4.7</td>\n",
       "      <td>drizzle</td>\n",
       "    </tr>\n",
       "    <tr>\n",
       "      <th>1</th>\n",
       "      <td>1/2/2012</td>\n",
       "      <td>10.9</td>\n",
       "      <td>10.6</td>\n",
       "      <td>2.8</td>\n",
       "      <td>4.5</td>\n",
       "      <td>rain</td>\n",
       "    </tr>\n",
       "    <tr>\n",
       "      <th>2</th>\n",
       "      <td>1/3/2012</td>\n",
       "      <td>0.8</td>\n",
       "      <td>11.7</td>\n",
       "      <td>7.2</td>\n",
       "      <td>2.3</td>\n",
       "      <td>rain</td>\n",
       "    </tr>\n",
       "    <tr>\n",
       "      <th>3</th>\n",
       "      <td>1/4/2012</td>\n",
       "      <td>20.3</td>\n",
       "      <td>12.2</td>\n",
       "      <td>5.6</td>\n",
       "      <td>4.7</td>\n",
       "      <td>rain</td>\n",
       "    </tr>\n",
       "    <tr>\n",
       "      <th>4</th>\n",
       "      <td>1/5/2012</td>\n",
       "      <td>1.3</td>\n",
       "      <td>8.9</td>\n",
       "      <td>2.8</td>\n",
       "      <td>6.1</td>\n",
       "      <td>rain</td>\n",
       "    </tr>\n",
       "    <tr>\n",
       "      <th>...</th>\n",
       "      <td>...</td>\n",
       "      <td>...</td>\n",
       "      <td>...</td>\n",
       "      <td>...</td>\n",
       "      <td>...</td>\n",
       "      <td>...</td>\n",
       "    </tr>\n",
       "    <tr>\n",
       "      <th>1456</th>\n",
       "      <td>12/27/2015</td>\n",
       "      <td>8.6</td>\n",
       "      <td>4.4</td>\n",
       "      <td>1.7</td>\n",
       "      <td>2.9</td>\n",
       "      <td>rain</td>\n",
       "    </tr>\n",
       "    <tr>\n",
       "      <th>1457</th>\n",
       "      <td>12/28/2015</td>\n",
       "      <td>1.5</td>\n",
       "      <td>5.0</td>\n",
       "      <td>1.7</td>\n",
       "      <td>1.3</td>\n",
       "      <td>rain</td>\n",
       "    </tr>\n",
       "    <tr>\n",
       "      <th>1458</th>\n",
       "      <td>12/29/2015</td>\n",
       "      <td>0.0</td>\n",
       "      <td>7.2</td>\n",
       "      <td>0.6</td>\n",
       "      <td>2.6</td>\n",
       "      <td>fog</td>\n",
       "    </tr>\n",
       "    <tr>\n",
       "      <th>1459</th>\n",
       "      <td>12/30/2015</td>\n",
       "      <td>0.0</td>\n",
       "      <td>5.6</td>\n",
       "      <td>-1.0</td>\n",
       "      <td>3.4</td>\n",
       "      <td>sun</td>\n",
       "    </tr>\n",
       "    <tr>\n",
       "      <th>1460</th>\n",
       "      <td>12/31/2015</td>\n",
       "      <td>0.0</td>\n",
       "      <td>5.6</td>\n",
       "      <td>-2.1</td>\n",
       "      <td>3.5</td>\n",
       "      <td>sun</td>\n",
       "    </tr>\n",
       "  </tbody>\n",
       "</table>\n",
       "<p>1461 rows × 6 columns</p>\n",
       "</div>"
      ],
      "text/plain": [
       "            date  precipitation  temp_max  temp_min  wind  weather\n",
       "0       1/1/2012            0.0      12.8       5.0   4.7  drizzle\n",
       "1       1/2/2012           10.9      10.6       2.8   4.5     rain\n",
       "2       1/3/2012            0.8      11.7       7.2   2.3     rain\n",
       "3       1/4/2012           20.3      12.2       5.6   4.7     rain\n",
       "4       1/5/2012            1.3       8.9       2.8   6.1     rain\n",
       "...          ...            ...       ...       ...   ...      ...\n",
       "1456  12/27/2015            8.6       4.4       1.7   2.9     rain\n",
       "1457  12/28/2015            1.5       5.0       1.7   1.3     rain\n",
       "1458  12/29/2015            0.0       7.2       0.6   2.6      fog\n",
       "1459  12/30/2015            0.0       5.6      -1.0   3.4      sun\n",
       "1460  12/31/2015            0.0       5.6      -2.1   3.5      sun\n",
       "\n",
       "[1461 rows x 6 columns]"
      ]
     },
     "execution_count": 18,
     "metadata": {},
     "output_type": "execute_result"
    }
   ],
   "source": [
    "df"
   ]
  },
  {
   "cell_type": "code",
   "execution_count": 19,
   "id": "d6c5b5e3-d46c-4fbc-91a1-9850732d1097",
   "metadata": {},
   "outputs": [],
   "source": [
    "df = pd.read_csv(\"C:\\\\Users\\\\Gateway\\\\Desktop\\\\balanced_ai_human_prompts.csv\")"
   ]
  },
  {
   "cell_type": "code",
   "execution_count": 20,
   "id": "eb8a2e61-b17c-4882-9ab3-c2168e0a6b5f",
   "metadata": {},
   "outputs": [
    {
     "data": {
      "text/html": [
       "<div>\n",
       "<style scoped>\n",
       "    .dataframe tbody tr th:only-of-type {\n",
       "        vertical-align: middle;\n",
       "    }\n",
       "\n",
       "    .dataframe tbody tr th {\n",
       "        vertical-align: top;\n",
       "    }\n",
       "\n",
       "    .dataframe thead th {\n",
       "        text-align: right;\n",
       "    }\n",
       "</style>\n",
       "<table border=\"1\" class=\"dataframe\">\n",
       "  <thead>\n",
       "    <tr style=\"text-align: right;\">\n",
       "      <th></th>\n",
       "      <th>text</th>\n",
       "      <th>generated</th>\n",
       "    </tr>\n",
       "  </thead>\n",
       "  <tbody>\n",
       "    <tr>\n",
       "      <th>0</th>\n",
       "      <td>Machine learning, a subset of artificial intel...</td>\n",
       "      <td>1</td>\n",
       "    </tr>\n",
       "    <tr>\n",
       "      <th>1</th>\n",
       "      <td>A decision tree, a prominent machine learning ...</td>\n",
       "      <td>1</td>\n",
       "    </tr>\n",
       "    <tr>\n",
       "      <th>2</th>\n",
       "      <td>Education, a cornerstone of societal progress,...</td>\n",
       "      <td>1</td>\n",
       "    </tr>\n",
       "    <tr>\n",
       "      <th>3</th>\n",
       "      <td>Computers, the backbone of modern technology, ...</td>\n",
       "      <td>1</td>\n",
       "    </tr>\n",
       "    <tr>\n",
       "      <th>4</th>\n",
       "      <td>Chess, a timeless game of strategy and intelle...</td>\n",
       "      <td>1</td>\n",
       "    </tr>\n",
       "    <tr>\n",
       "      <th>...</th>\n",
       "      <td>...</td>\n",
       "      <td>...</td>\n",
       "    </tr>\n",
       "    <tr>\n",
       "      <th>2745</th>\n",
       "      <td>Generate a detailed summary of global healthca...</td>\n",
       "      <td>1</td>\n",
       "    </tr>\n",
       "    <tr>\n",
       "      <th>2746</th>\n",
       "      <td>Compose an in-depth exploration of financial t...</td>\n",
       "      <td>1</td>\n",
       "    </tr>\n",
       "    <tr>\n",
       "      <th>2747</th>\n",
       "      <td>Generate a detailed summary of autonomous vehi...</td>\n",
       "      <td>1</td>\n",
       "    </tr>\n",
       "    <tr>\n",
       "      <th>2748</th>\n",
       "      <td>Develop a persuasive argument about internet o...</td>\n",
       "      <td>1</td>\n",
       "    </tr>\n",
       "    <tr>\n",
       "      <th>2749</th>\n",
       "      <td>Generate a detailed summary of supply chain ma...</td>\n",
       "      <td>1</td>\n",
       "    </tr>\n",
       "  </tbody>\n",
       "</table>\n",
       "<p>2750 rows × 2 columns</p>\n",
       "</div>"
      ],
      "text/plain": [
       "                                                   text  generated\n",
       "0     Machine learning, a subset of artificial intel...          1\n",
       "1     A decision tree, a prominent machine learning ...          1\n",
       "2     Education, a cornerstone of societal progress,...          1\n",
       "3     Computers, the backbone of modern technology, ...          1\n",
       "4     Chess, a timeless game of strategy and intelle...          1\n",
       "...                                                 ...        ...\n",
       "2745  Generate a detailed summary of global healthca...          1\n",
       "2746  Compose an in-depth exploration of financial t...          1\n",
       "2747  Generate a detailed summary of autonomous vehi...          1\n",
       "2748  Develop a persuasive argument about internet o...          1\n",
       "2749  Generate a detailed summary of supply chain ma...          1\n",
       "\n",
       "[2750 rows x 2 columns]"
      ]
     },
     "execution_count": 20,
     "metadata": {},
     "output_type": "execute_result"
    }
   ],
   "source": [
    "df"
   ]
  },
  {
   "cell_type": "markdown",
   "id": "e59aa096-75cb-44b8-9851-8763d9129805",
   "metadata": {},
   "source": [
    "# pandas series"
   ]
  },
  {
   "cell_type": "code",
   "execution_count": 1,
   "id": "5560232f-c520-442d-8b7d-a427aab3d6f9",
   "metadata": {},
   "outputs": [
    {
     "name": "stdout",
     "output_type": "stream",
     "text": [
      "0    90\n",
      "1    85\n",
      "2    78\n",
      "3    92\n",
      "dtype: int64\n"
     ]
    }
   ],
   "source": [
    "import pandas as pd\n",
    "\n",
    "marks = pd.Series([90, 85, 78, 92])\n",
    "print(marks)\n"
   ]
  },
  {
   "cell_type": "markdown",
   "id": "88225e9a-7be7-4910-bb52-9d186a478de2",
   "metadata": {},
   "source": [
    "# pandas DataFrame"
   ]
  },
  {
   "cell_type": "code",
   "execution_count": 2,
   "id": "662705cc-671a-4219-a7cf-588c0b2e8518",
   "metadata": {},
   "outputs": [
    {
     "name": "stdout",
     "output_type": "stream",
     "text": [
      "    Name  Age  Marks\n",
      "0  Areej   20     88\n",
      "1  Faiqa   22     92\n",
      "2  Laiba   19     79\n"
     ]
    }
   ],
   "source": [
    "import pandas as pd\n",
    "\n",
    "data = {\n",
    "    \"Name\": [\"Areej\", \"Faiqa\", \"Laiba\"],\n",
    "    \"Age\": [20, 22, 19],\n",
    "    \"Marks\": [88, 92, 79]\n",
    "}\n",
    "\n",
    "df = pd.DataFrame(data)\n",
    "print(df)\n"
   ]
  },
  {
   "cell_type": "markdown",
   "id": "e7c836fd-b8bb-41bc-bd3b-1a6bf5ce6d6f",
   "metadata": {},
   "source": [
    "# Basic operations in pandas"
   ]
  },
  {
   "cell_type": "code",
   "execution_count": 3,
   "id": "7d64314b-b7ca-4f5c-b9b4-31f6c0358b53",
   "metadata": {},
   "outputs": [
    {
     "name": "stdout",
     "output_type": "stream",
     "text": [
      "    Name  Age  Marks\n",
      "0  Areej   20     88\n",
      "1  Faiqa   22     92\n",
      "2  Laiba   19     79\n",
      "0    Areej\n",
      "1    Faiqa\n",
      "2    Laiba\n",
      "Name: Name, dtype: object\n",
      "             Age      Marks\n",
      "count   3.000000   3.000000\n",
      "mean   20.333333  86.333333\n",
      "std     1.527525   6.658328\n",
      "min    19.000000  79.000000\n",
      "25%    19.500000  83.500000\n",
      "50%    20.000000  88.000000\n",
      "75%    21.000000  90.000000\n",
      "max    22.000000  92.000000\n",
      "<class 'pandas.core.frame.DataFrame'>\n",
      "RangeIndex: 3 entries, 0 to 2\n",
      "Data columns (total 3 columns):\n",
      " #   Column  Non-Null Count  Dtype \n",
      "---  ------  --------------  ----- \n",
      " 0   Name    3 non-null      object\n",
      " 1   Age     3 non-null      int64 \n",
      " 2   Marks   3 non-null      int64 \n",
      "dtypes: int64(2), object(1)\n",
      "memory usage: 204.0+ bytes\n",
      "None\n"
     ]
    }
   ],
   "source": [
    "print(df.head())      \n",
    "print(df[\"Name\"])    \n",
    "print(df.describe())  \n",
    "print(df.info())     "
   ]
  },
  {
   "cell_type": "markdown",
   "id": "957a544b-381d-49b5-bf9f-9d6379566d48",
   "metadata": {},
   "source": [
    "# pivot table in pandas"
   ]
  },
  {
   "cell_type": "code",
   "execution_count": 5,
   "id": "c35223ab-f9f1-45bf-b0b2-a3c25de01e95",
   "metadata": {},
   "outputs": [
    {
     "name": "stdout",
     "output_type": "stream",
     "text": [
      "Original Data:\n",
      "       Name  Subject  Marks\n",
      "0  Shukriya     Math     88\n",
      "1     Faiqa     Math     92\n",
      "2  Shukriya  Science     85\n",
      "3     Laiba     Math     75\n",
      "4     Faiqa  Science     89\n",
      "5     Laiba  Science     80\n",
      "\n",
      "Pivot Table:\n",
      "Subject   Math  Science\n",
      "Name                   \n",
      "Faiqa     92.0     89.0\n",
      "Laiba     75.0     80.0\n",
      "Shukriya  88.0     85.0\n"
     ]
    }
   ],
   "source": [
    "import pandas as pd\n",
    "\n",
    "data = {\n",
    "    \"Name\": [\"Shukriya\", \"Faiqa\", \"Shukriya\", \"Laiba\", \"Faiqa\", \"Laiba\"],\n",
    "    \"Subject\": [\"Math\", \"Math\", \"Science\", \"Math\", \"Science\", \"Science\"],\n",
    "    \"Marks\": [88, 92, 85, 75, 89, 80]\n",
    "}\n",
    "\n",
    "df = pd.DataFrame(data)\n",
    "print(\"Original Data:\")\n",
    "print(df)\n",
    "\n",
    "pivot = pd.pivot_table(df, values=\"Marks\", index=\"Name\", columns=\"Subject\", aggfunc=\"mean\")\n",
    "print(\"\\nPivot Table:\")\n",
    "print(pivot)\n"
   ]
  },
  {
   "cell_type": "markdown",
   "id": "abcdee1b-2ecf-49c1-a8ba-de1ab4b7b3d5",
   "metadata": {},
   "source": [
    "# List Dataframe"
   ]
  },
  {
   "cell_type": "code",
   "execution_count": 8,
   "id": "6f93a9ce-9f31-4747-bfb5-d6742a869f92",
   "metadata": {},
   "outputs": [
    {
     "name": "stdout",
     "output_type": "stream",
     "text": [
      "       Name  Age  Marks\n",
      "0  Shukriya   20     88\n",
      "1     Faiqa   22     92\n",
      "2     Laiba   19     79\n"
     ]
    }
   ],
   "source": [
    "import pandas as pd\n",
    "\n",
    "data = [\n",
    "    [\"Shukriya\", 20, 88],\n",
    "    [\"Faiqa\", 22, 92],\n",
    "    [\"Laiba\", 19, 79]\n",
    "]\n",
    "\n",
    "df = pd.DataFrame(data, columns=[\"Name\", \"Age\", \"Marks\"])\n",
    "print(df)\n"
   ]
  },
  {
   "cell_type": "markdown",
   "id": "188f169f-caa3-4671-adb5-61ea9767607b",
   "metadata": {},
   "source": [
    "# Dictionary Dataframe"
   ]
  },
  {
   "cell_type": "code",
   "execution_count": 10,
   "id": "addef500-230d-4a15-ac71-a229caf68fdd",
   "metadata": {},
   "outputs": [
    {
     "name": "stdout",
     "output_type": "stream",
     "text": [
      "       Name  Age  Marks\n",
      "0  Shukriya   20     88\n",
      "1     Faiqa   22     92\n",
      "2     Laiba   19     79\n"
     ]
    }
   ],
   "source": [
    "data = {\n",
    "    \"Name\": [\"Shukriya\", \"Faiqa\", \"Laiba\"],\n",
    "    \"Age\": [20, 22, 19],\n",
    "    \"Marks\": [88, 92, 79]\n",
    "}\n",
    "\n",
    "df = pd.DataFrame(data)\n",
    "print(df)\n"
   ]
  },
  {
   "cell_type": "markdown",
   "id": "81479741-da9f-4ccb-92a1-652bc316a831",
   "metadata": {},
   "source": [
    "# Tuples Data frame"
   ]
  },
  {
   "cell_type": "code",
   "execution_count": 11,
   "id": "79acf72b-4282-440c-ba2f-f929c9ecbe44",
   "metadata": {},
   "outputs": [
    {
     "name": "stdout",
     "output_type": "stream",
     "text": [
      "       Name  Age  Marks\n",
      "0  Shukriya   20     88\n",
      "1     Faiqa   22     92\n",
      "2     Laiba   19     79\n"
     ]
    }
   ],
   "source": [
    "data = [\n",
    "    (\"Shukriya\", 20, 88),\n",
    "    (\"Faiqa\", 22, 92),\n",
    "    (\"Laiba\", 19, 79)\n",
    "]\n",
    "\n",
    "df = pd.DataFrame(data, columns=[\"Name\", \"Age\", \"Marks\"])\n",
    "print(df)\n"
   ]
  },
  {
   "cell_type": "code",
   "execution_count": 1,
   "id": "2f0f1c80-d400-45ec-af23-5e04f2bd205e",
   "metadata": {},
   "outputs": [
    {
     "name": "stdout",
     "output_type": "stream",
     "text": [
      "Empty DataFrame\n",
      "Columns: []\n",
      "Index: []\n"
     ]
    }
   ],
   "source": [
    "import pandas as pd\n",
    "e_data=pd.DataFrame()\n",
    "print(e_data)"
   ]
  },
  {
   "cell_type": "code",
   "execution_count": 2,
   "id": "439e0a7a-1d30-49aa-906a-2d610b6ce3e9",
   "metadata": {},
   "outputs": [
    {
     "name": "stdout",
     "output_type": "stream",
     "text": [
      "['a', 'b', 'c', 'd', 'w']\n",
      "   0\n",
      "0  a\n",
      "1  b\n",
      "2  c\n",
      "3  d\n",
      "4  w\n"
     ]
    }
   ],
   "source": [
    "list=['a','b','c','d','w']\n",
    "print(list)\n",
    "d2=pd.DataFrame(list)\n",
    "print(d2)"
   ]
  },
  {
   "cell_type": "code",
   "execution_count": 3,
   "id": "a52fdfe3-25e0-4d52-95ee-63d307fe1fec",
   "metadata": {},
   "outputs": [
    {
     "name": "stdout",
     "output_type": "stream",
     "text": [
      "[[1, 2, 3, 4, 5], [4, 5, 6, 7, 8]]\n"
     ]
    },
    {
     "data": {
      "text/html": [
       "<div>\n",
       "<style scoped>\n",
       "    .dataframe tbody tr th:only-of-type {\n",
       "        vertical-align: middle;\n",
       "    }\n",
       "\n",
       "    .dataframe tbody tr th {\n",
       "        vertical-align: top;\n",
       "    }\n",
       "\n",
       "    .dataframe thead th {\n",
       "        text-align: right;\n",
       "    }\n",
       "</style>\n",
       "<table border=\"1\" class=\"dataframe\">\n",
       "  <thead>\n",
       "    <tr style=\"text-align: right;\">\n",
       "      <th></th>\n",
       "      <th>0</th>\n",
       "      <th>1</th>\n",
       "      <th>2</th>\n",
       "      <th>3</th>\n",
       "      <th>4</th>\n",
       "    </tr>\n",
       "  </thead>\n",
       "  <tbody>\n",
       "    <tr>\n",
       "      <th>0</th>\n",
       "      <td>1</td>\n",
       "      <td>2</td>\n",
       "      <td>3</td>\n",
       "      <td>4</td>\n",
       "      <td>5</td>\n",
       "    </tr>\n",
       "    <tr>\n",
       "      <th>1</th>\n",
       "      <td>4</td>\n",
       "      <td>5</td>\n",
       "      <td>6</td>\n",
       "      <td>7</td>\n",
       "      <td>8</td>\n",
       "    </tr>\n",
       "  </tbody>\n",
       "</table>\n",
       "</div>"
      ],
      "text/plain": [
       "   0  1  2  3  4\n",
       "0  1  2  3  4  5\n",
       "1  4  5  6  7  8"
      ]
     },
     "execution_count": 3,
     "metadata": {},
     "output_type": "execute_result"
    }
   ],
   "source": [
    "list2=[[1,2,3,4,5],[4,5,6,7,8]]\n",
    "print(list2)\n",
    "pd3=pd.DataFrame(list2)\n",
    "pd3"
   ]
  },
  {
   "cell_type": "code",
   "execution_count": 4,
   "id": "cf6eb666-7d56-4168-87b5-d86b4e2d5ff0",
   "metadata": {},
   "outputs": [
    {
     "name": "stdout",
     "output_type": "stream",
     "text": [
      "[[1, 2, 3, 4, 5], [4, 5, 6, 7, 8], ['a', 'b', 'c', 'd', 'e']]\n",
      "   0  1  2  3  4\n",
      "0  1  2  3  4  5\n",
      "1  4  5  6  7  8\n",
      "2  a  b  c  d  e\n"
     ]
    }
   ],
   "source": [
    "list3=[[1,2,3,4,5],[4,5,6,7,8],['a','b','c','d','e']]\n",
    "print(list3)\n",
    "c4=pd.DataFrame(list3)\n",
    "print(d4)"
   ]
  },
  {
   "cell_type": "code",
   "execution_count": null,
   "id": "74b4e2ab-aebe-432c-874e-12962b243143",
   "metadata": {},
   "outputs": [],
   "source": [
    "df6=pd.DataFrame({'ID':[5,6,7,8],\n",
    " 'Name':['D','E','F','G']\n",
    " 'Class':['W','X','Y','Z']})"
   ]
  },
  {
   "cell_type": "code",
   "execution_count": null,
   "id": "3375bbe6-b2c1-4f1e-9828-d7ea53715320",
   "metadata": {},
   "outputs": [],
   "source": []
  }
 ],
 "metadata": {
  "kernelspec": {
   "display_name": "Python 3 (ipykernel)",
   "language": "python",
   "name": "python3"
  },
  "language_info": {
   "codemirror_mode": {
    "name": "ipython",
    "version": 3
   },
   "file_extension": ".py",
   "mimetype": "text/x-python",
   "name": "python",
   "nbconvert_exporter": "python",
   "pygments_lexer": "ipython3",
   "version": "3.13.5"
  }
 },
 "nbformat": 4,
 "nbformat_minor": 5
}
